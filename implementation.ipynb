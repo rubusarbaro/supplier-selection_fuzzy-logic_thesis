{
 "cells": [
  {
   "cell_type": "markdown",
   "id": "0ebde4d4",
   "metadata": {},
   "source": [
    "### <center>Universidad Autónoma de Nuevo León</center>\n",
    "# <center>Supplier evaluation and selection in NPI process using a fuzzy logic model</center>\n",
    "#### <center>Saúl R. Morales <a href=\"https://orcid.org/0000-0002-1120-7141\"><img src=\"/orcid_logo.png\" width=\"20\" height=\"20\"></a> © 2025</center>\n",
    "\n",
    "This Jupyter Notebook contains the code used for the implementation of the fuzzy logic model in the my thesis for master's degree in Logistics and Supply Chain."
   ]
  },
  {
   "cell_type": "markdown",
   "id": "5157dd45",
   "metadata": {},
   "source": [
    "### Module import\n",
    "In this code section the required modules are imported:\n",
    "* __*date*__ to create a simulated NPI project. `Project`class requires milestone dates in `Date` class (format).\n",
    "* __*matplotlib*__ to plot the fuzzy functions.\n",
    "* __*numpy*__ to work with values in fuzzy variables.\n",
    "* __*simulation*__ is a custom module with the required classes to simulate the NPI Sourcing process. The code can be found in `simulation.py`.\n",
    "* __*skfuzzy*__ is a fuzzy logic framework for Python."
   ]
  },
  {
   "cell_type": "code",
   "execution_count": 2,
   "id": "d73b174c",
   "metadata": {
    "ExecuteTime": {
     "end_time": "2025-09-20T02:14:15.752707Z",
     "start_time": "2025-09-20T02:14:14.946161Z"
    }
   },
   "outputs": [],
   "source": [
    "from datetime import date\n",
    "from math import ceil, floor\n",
    "from statistics import mean, stdev\n",
    "import matplotlib.pyplot as plt\n",
    "import numpy as np\n",
    "import pandas as pd\n",
    "import simulation\n",
    "import skfuzzy as fuzzy\n",
    "import threading"
   ]
  },
  {
   "cell_type": "markdown",
   "id": "e65c199d",
   "metadata": {},
   "source": [
    "### 1.1. Generate sample suppliers\n",
    "Based in fuzzy variables (delivery time, quotation time, price, punctuality) and their values (low, regular, high), it will be necessary to generate 81 suppliers with different profiles each one, aiming to obtain a initial data frame with unbiased data.\n",
    "Supplier/profile quantity is calculated as follows in this formula: $`R_{max} = \\prod_{i=1}^{n} m_{i} = \\prod_{i=1}^{4} 3 = 3^{4} = 81`$\n",
    "\n",
    "The generated suppliers will be named as Supplier 1, Supplier 2, …, Supplier 81; however, from this list of 81 suppliers, three of them containing the profile of the current real-world suppliers will be named different to easily identify them (see table below).\n",
    "\n",
    "| Supplier ID | Supplier name | Delivery time | Quotation time | Price | Punctuality |\n",
    "|:-----------:|---------------|:-------------:|:--------------:|:-----:|:-----------:|\n",
    "| 10000033 | Tuberías ABC, S.A. de C.V. | regular | low | regular | high|\n",
    "| 10000047 | Tuberías DEF, S. de R.L. | regular | high | low | regular |\n",
    "| 10000073 | Tuberías GHI, S.A.S. | high | high | low | low |"
   ]
  },
  {
   "cell_type": "markdown",
   "id": "6b769561",
   "metadata": {},
   "source": [
    "## 1. Training dataset\n",
    "In this section a simulated dataset will be generated based in real-world statistics to determine the fuzzy functions of the model in [Section 2](#2.-Fuzzy-model-implementation).\n",
    "\n",
    "**Table of contents**\n",
    "\n",
    "[1.1. Generate sample suppliers](#1.1.-Generate-sample-suppliers)\n",
    "\n",
    "[1.2. Create project and ECNs](#1.2.-Create-project-and-ECNs)\n",
    "\n",
    "[1.3. Generating data frame](#1.3.-Generating-data-frame)"
   ]
  },
  {
   "cell_type": "code",
   "execution_count": 2,
   "id": "6cd186c8",
   "metadata": {
    "ExecuteTime": {
     "end_time": "2025-09-20T02:14:19.225815Z",
     "start_time": "2025-09-20T02:14:19.218629Z"
    }
   },
   "outputs": [
    {
     "name": "stdout",
     "output_type": "stream",
     "text": [
      "Tuberías ABC, S.A. de C.V. has ID 10000033.\n",
      "Tuberías DEF, S. de R.L. has ID 10000047.\n",
      "Tuberías GHI, S.A.S. has ID 10000073.\n"
     ]
    }
   ],
   "source": [
    "env = simulation.Environment()  # Initialize environment for the simulation.\n",
    "\n",
    "current_supplier_names = (\"Tuberías ABC, S.A. de C.V.\", \"Tuberías DEF, S. de R.L.\", \"Tuberías GHI, S.A.S.\")\n",
    "current_Supplier_ids = []\n",
    "current_supplier_profile = ((\"regular\", \"low\", \"regular\", \"high\"), (\"regular\", \"high\", \"low\", \"regular\"), (\"high\", \"high\", \"low\", \"low\"))\n",
    "\n",
    "for delivery_time in [\"low\", \"regular\", \"high\"]:\n",
    "    for quotation_time in [\"low\", \"regular\", \"high\"]:\n",
    "        for price in [\"low\", \"regular\", \"high\"]:\n",
    "            for punctuality in [\"low\", \"regular\", \"high\"]:\n",
    "                if (delivery_time, quotation_time, price, punctuality) in current_supplier_profile:\n",
    "                    supplier_index = current_supplier_profile.index((delivery_time, quotation_time, price, punctuality))\n",
    "                    supplier_name = current_supplier_names[supplier_index]\n",
    "                    supplier_id = f\"1{str(simulation.Supplier.instances + 1).zfill(7)}\"\n",
    "                    print(f\"{supplier_name} has ID {supplier_id}.\")\n",
    "                    current_Supplier_ids.append(supplier_id)\n",
    "                else:\n",
    "                    supplier_name = f\"Supplier {simulation.Supplier.instances + 1}\"   # Generate a supplier name concatenating Supplier and supplier number.\n",
    "\n",
    "                supplier = simulation.Supplier(supplier_name, delivery_time, quotation_time, price, punctuality)\n",
    "                env.add_supplier(supplier)  # Add supplier to simulation environment.\n",
    "\n",
    "supplier_b = env.get_supplier(\"id\", \"10000036\")\n",
    "supplier_m = env.get_supplier(\"id\", \"10000047\")\n",
    "supplier_h = env.get_supplier(\"id\", \"10000073\")\n",
    "\n",
    "supplier_b.standard_lead_time = 30\n",
    "supplier_m.standard_lead_time = 14\n",
    "supplier_h.standard_lead_time = 28"
   ]
  },
  {
   "cell_type": "markdown",
   "id": "db7877e3",
   "metadata": {},
   "source": [
    "### 1.2. Create project and ECNs\n",
    "Create two sample projects named *Alaska* and *Pandora*.\n",
    "It is important to define the milestone dates for these projectss. Required milestone dates are:\n",
    "* **Design freeze (DF):** Restrict not important changes to the design of the project. Most of ECNs (Engineering Change Notification) are released near this date.\n",
    "* **MCS:** I do not remember what does it stands for in this moment. In this stage a prototype containing the exact sourced material for the project to review to review their feasibility and adjust parameters in case it is needed. In this stage, part numbers do not need to be PPAP approved and built units cannot be sold.\n",
    "* **Pilot:** In this stage a small but significant quantity of units of the project are produced. It aims to test the whole manufacturing process. All the material needs to be PPAP approved in this stage. Pilot units may be sold under Marketing approval.\n",
    "* **Start of production (SOP):** Project implementation. Suppliers need to be ready at least six weeks before this date, however, *supplier readiness* may be longer depending on material lead time.\n",
    "\n",
    "A quantity of 300 ECNs is created for this initial data frame. Each ECN contains a variable quantity of part numbers of different kinds. The quantity and kinds are randomly generated taking into account real statistics.\n",
    "\n",
    "The simulated part numbers are copper tubes. From a real data set it was determined six kinds three complexity degrees (low, medium, regular). Both parameters affect prices and quantities."
   ]
  },
  {
   "cell_type": "code",
   "execution_count": 3,
   "id": "7e01edcb",
   "metadata": {
    "ExecuteTime": {
     "end_time": "2025-09-20T02:14:47.702119Z",
     "start_time": "2025-09-20T02:14:28.661203Z"
    }
   },
   "outputs": [],
   "source": [
    "try:\n",
    "    imported_df = pd.read_excel(\"./Entry_DataFrames/training_df.xlsx\")\n",
    "    env.import_training_df(imported_df)\n",
    "    env.item_master[\"Supplier ID\"] = env.item_master[\"Supplier ID\"].apply(str)\n",
    "    env.item_master[\"Quotation date\"] = pd.to_datetime(env.item_master[\"Quotation date\"]).dt.date\n",
    "    imported_data = True\n",
    "except:\n",
    "    alaska = simulation.Project(\n",
    "        name=\"Alaska\",\n",
    "        df_date=date(2024,5,10), \n",
    "        mcs_date=date(2024,7,15),\n",
    "        pilot_date=date(2024,9,1), \n",
    "        sop_date=date(2025,1,27)\n",
    "    )   # Create project Alaska.\n",
    "\n",
    "    anchorage = simulation.Project(\n",
    "        name=\"Anchorage\",\n",
    "        df_date=date(2024,11,11),\n",
    "        mcs_date=date(2025,3,25),\n",
    "        pilot_date=date(2025,5,30),\n",
    "        sop_date=date(2025,7,14)\n",
    "    )   # Create project Pandora.\n",
    "\n",
    "    kodiak = simulation.Project(\n",
    "        name=\"Kodiak\",\n",
    "        df_date=date(2025,8,19),\n",
    "        mcs_date=date(2026,2,5),\n",
    "        pilot_date=date(2026,4,23),\n",
    "        sop_date=date(2026,6,26)\n",
    "    )   # Create project Pandora.\n",
    "\n",
    "    for project in [alaska, anchorage, kodiak]:\n",
    "        env.gen_ecns(project, 100)\n",
    "        env.quote_all_ecn_project_all_suppliers(project)\n",
    "\n",
    "    threads_gen_df = []\n",
    "    for project in [alaska, anchorage, kodiak]:\n",
    "        thread = threading.Thread(target=env.gen_initial_item_master_df_project, args=(project,))\n",
    "        threads_gen_df.append(thread)\n",
    "    for thread in threads_gen_df: thread.start()\n",
    "    for thread in threads_gen_df: thread.join()\n",
    "\n",
    "    env.item_master.loc[env.item_master[\"Iteration\"].isna(), \"Iteration\"] = 0\n",
    "    imported_data = False\n",
    "    \n",
    "    env.item_master.to_excel(\"./Entry_DataFrames/training_df.xlsx\")"
   ]
  },
  {
   "cell_type": "markdown",
   "id": "13fa4837",
   "metadata": {},
   "source": [
    "### 1.3. Generating data frame\n",
    "Generate the data frame is divided in two steps:\n",
    "1. Quoting all the ECNs with all the suppliers. The simulation uses real statistical data to generate random dates and prices.\n",
    "2. Implementing each ECN with random chosen suppliers. A uniform distribution is used to randomly chose the suppliers."
   ]
  },
  {
   "cell_type": "markdown",
   "id": "7833609b",
   "metadata": {},
   "source": [
    "## 2. Fuzzy model implementation\n",
    "### 2.1. Generate dataset for fuzzy model\n",
    "In this section a new project and data frame containing 10 copper piping ECNs is generated to apply it with the "
   ]
  },
  {
   "cell_type": "code",
   "execution_count": 4,
   "id": "fd01d00f",
   "metadata": {
    "ExecuteTime": {
     "end_time": "2025-09-20T02:14:57.312827Z",
     "start_time": "2025-09-20T02:14:57.288669Z"
    }
   },
   "outputs": [],
   "source": [
    "juneau = simulation.Project(\n",
    "    name=\"Juneau\",\n",
    "    df_date=date(2024,4,9),\n",
    "    mcs_date=date(2024,6,17),\n",
    "    pilot_date=date(2024,8,1),\n",
    "    sop_date=date(2024,11,25)\n",
    ")\n",
    "\n",
    "juneau_ecns_df = pd.read_excel(\"./Entry_DataFrames/Juneau_ecns.xlsx\")\n",
    "juneau_ecns = env.import_ecns_from_df(juneau, juneau_ecns_df)\n",
    "\n",
    "for supplier in env.suppliers:\n",
    "    if supplier.id not in current_Supplier_ids:\n",
    "        env.deactivate_supplier(supplier)\n"
   ]
  },
  {
   "cell_type": "markdown",
   "id": "72def5a0",
   "metadata": {},
   "source": [
    "#### To include the new supplier execute next block:"
   ]
  },
  {
   "cell_type": "code",
   "execution_count": 5,
   "id": "643ecb05",
   "metadata": {},
   "outputs": [],
   "source": [
    "supplier_s = simulation.Supplier(\"Tuberías Súper, S.A.P.I.\", \"low\", \"low\", \"low\", \"high\")\n",
    "env.add_supplier(supplier_s)\n",
    "\n",
    "for ecn in juneau.ecns:\n",
    "    for quotation in ecn.quotations:\n",
    "        for supplier in [supplier_b, supplier_h, supplier_m, supplier_s]:\n",
    "            for supplier_quotation in supplier.quotations:\n",
    "                if supplier_quotation == quotation:\n",
    "                    supplier.quotations.remove(quotation)\n",
    "            if ecn in supplier.awarded_ecns:\n",
    "                supplier.awarded_ecns.remove(ecn)\n",
    "    ecn.quotations = []\n",
    "\n",
    "    env.item_master = env.item_master[env.item_master[\"Project\"] != \"Juneau\"]"
   ]
  },
  {
   "cell_type": "markdown",
   "id": "0f59baa9",
   "metadata": {},
   "source": [
    "### 2.2. Scenario 1: Active evaluation"
   ]
  },
  {
   "cell_type": "code",
   "execution_count": 6,
   "id": "75e3012aa3a31d18",
   "metadata": {},
   "outputs": [
    {
     "name": "stderr",
     "output_type": "stream",
     "text": [
      "/home/rubusarbaro/.pyProjects/supplier-selection_fuzzy-logic_thesis/simulation.py:811: FutureWarning: Setting an item of incompatible dtype is deprecated and will raise an error in a future version of pandas. Value '2024-02-19' has dtype incompatible with datetime64[ns], please explicitly cast to a compatible dtype first.\n",
      "  self.item_master.loc[\n",
      "/home/rubusarbaro/.pyProjects/supplier-selection_fuzzy-logic_thesis/simulation.py:811: FutureWarning: Setting an item of incompatible dtype is deprecated and will raise an error in a future version of pandas. Value '2024-02-26' has dtype incompatible with datetime64[ns], please explicitly cast to a compatible dtype first.\n",
      "  self.item_master.loc[\n",
      "/home/rubusarbaro/.pyProjects/supplier-selection_fuzzy-logic_thesis/simulation.py:811: FutureWarning: Setting an item of incompatible dtype is deprecated and will raise an error in a future version of pandas. Value '2024-04-11' has dtype incompatible with datetime64[ns], please explicitly cast to a compatible dtype first.\n",
      "  self.item_master.loc[\n",
      "/home/rubusarbaro/.pyProjects/supplier-selection_fuzzy-logic_thesis/simulation.py:811: FutureWarning: Setting an item of incompatible dtype is deprecated and will raise an error in a future version of pandas. Value '2024-04-09' has dtype incompatible with datetime64[ns], please explicitly cast to a compatible dtype first.\n",
      "  self.item_master.loc[\n",
      "/home/rubusarbaro/.pyProjects/supplier-selection_fuzzy-logic_thesis/simulation.py:811: FutureWarning: Setting an item of incompatible dtype is deprecated and will raise an error in a future version of pandas. Value '2024-04-10' has dtype incompatible with datetime64[ns], please explicitly cast to a compatible dtype first.\n",
      "  self.item_master.loc[\n",
      "/home/rubusarbaro/.pyProjects/supplier-selection_fuzzy-logic_thesis/simulation.py:811: FutureWarning: Setting an item of incompatible dtype is deprecated and will raise an error in a future version of pandas. Value '2024-05-01' has dtype incompatible with datetime64[ns], please explicitly cast to a compatible dtype first.\n",
      "  self.item_master.loc[\n",
      "/home/rubusarbaro/.pyProjects/supplier-selection_fuzzy-logic_thesis/simulation.py:811: FutureWarning: Setting an item of incompatible dtype is deprecated and will raise an error in a future version of pandas. Value '2024-05-10' has dtype incompatible with datetime64[ns], please explicitly cast to a compatible dtype first.\n",
      "  self.item_master.loc[\n",
      "/home/rubusarbaro/.pyProjects/supplier-selection_fuzzy-logic_thesis/simulation.py:811: FutureWarning: Setting an item of incompatible dtype is deprecated and will raise an error in a future version of pandas. Value '2024-05-10' has dtype incompatible with datetime64[ns], please explicitly cast to a compatible dtype first.\n",
      "  self.item_master.loc[\n",
      "/home/rubusarbaro/.pyProjects/supplier-selection_fuzzy-logic_thesis/simulation.py:811: FutureWarning: Setting an item of incompatible dtype is deprecated and will raise an error in a future version of pandas. Value 'True' has dtype incompatible with float64, please explicitly cast to a compatible dtype first.\n",
      "  self.item_master.loc[\n",
      "/home/rubusarbaro/.pyProjects/supplier-selection_fuzzy-logic_thesis/simulation.py:811: FutureWarning: Setting an item of incompatible dtype is deprecated and will raise an error in a future version of pandas. Value 'True' has dtype incompatible with int64, please explicitly cast to a compatible dtype first.\n",
      "  self.item_master.loc[\n",
      "/home/rubusarbaro/.pyProjects/supplier-selection_fuzzy-logic_thesis/simulation.py:811: FutureWarning: Setting an item of incompatible dtype is deprecated and will raise an error in a future version of pandas. Value 'True' has dtype incompatible with float64, please explicitly cast to a compatible dtype first.\n",
      "  self.item_master.loc[\n",
      "/home/rubusarbaro/.pyProjects/supplier-selection_fuzzy-logic_thesis/simulation.py:811: FutureWarning: Setting an item of incompatible dtype is deprecated and will raise an error in a future version of pandas. Value 'True' has dtype incompatible with float64, please explicitly cast to a compatible dtype first.\n",
      "  self.item_master.loc[\n",
      "/home/rubusarbaro/.pyProjects/supplier-selection_fuzzy-logic_thesis/simulation.py:811: FutureWarning: Setting an item of incompatible dtype is deprecated and will raise an error in a future version of pandas. Value 'True' has dtype incompatible with float64, please explicitly cast to a compatible dtype first.\n",
      "  self.item_master.loc[\n"
     ]
    },
    {
     "data": {
      "text/plain": [
       "0.6526315789473685"
      ]
     },
     "execution_count": 6,
     "metadata": {},
     "output_type": "execute_result"
    }
   ],
   "source": [
    "from datetime import datetime, timedelta\n",
    "\n",
    "otd_sop = []\n",
    "fuzzy_evaluation = pd.DataFrame(data=None, columns=[\"Iteration\", \"ECN\", \"Supplier ID\", \"New supplier\", \"Rule 1\", \"Rule 2\", \"Rule 3\", \"Rule 4\", \"Rule 5\", \"Rule 6\", \"Rule 7\", \"Rule 8\", \"Rule 9\", \"Rule 10\", \"Rule 11\", \"Rule 12\", \"Rule 13\", \"Rule 14\", \"Rule 15\", \"Rule 16\", \"Rule 17\", \"Rule 18\", \"Score\", \"Wait\", \"Implement\", \"Action\"])\n",
    "ecn_qty = len(juneau.ecns)\n",
    "\n",
    "simulation_results = simulation.Item_Master().df\n",
    "\n",
    "for run in range(100):\n",
    "    implemented_ecns = 0\n",
    "    ecn_dates = []\n",
    "    for ecn in juneau_ecns:\n",
    "        ecn_dates.append(ecn.ecn_date)\n",
    "\n",
    "    clock = min(ecn_dates)\n",
    "    initial_classification = True\n",
    "\n",
    "    continue_simulation = True\n",
    "    while continue_simulation:\n",
    "        if initial_classification:\n",
    "            for ecn in juneau.ecns:\n",
    "                ecn.reset()\n",
    "            initial_classification = False\n",
    "\n",
    "        for ecn in juneau.ecns:\n",
    "            match ecn.status:\n",
    "                case \"Under review\":\n",
    "                    if ecn.ecn_date == clock:\n",
    "                        env.quote_ecn_all_suppliers(ecn)\n",
    "\n",
    "                case \"Engineering release\":\n",
    "                    if len(fuzzy_evaluation[(fuzzy_evaluation[\"Iteration\"] == run + 1) & (fuzzy_evaluation[\"ECN\"] == ecn.ecn_id)]) == len(env.active_suppliers):\n",
    "                        max_score = fuzzy_evaluation[(fuzzy_evaluation[\"Iteration\"] == run + 1) & (fuzzy_evaluation[\"ECN\"] == ecn.ecn_id)][\"Score\"].max()\n",
    "                        max_score_supplier_df = fuzzy_evaluation[(fuzzy_evaluation[\"Iteration\"] == run + 1) & (fuzzy_evaluation[\"ECN\"] == ecn.ecn_id) & (fuzzy_evaluation[\"Score\"] == max_score)][\"Supplier ID\"]\n",
    "\n",
    "                        if len(max_score_supplier_df) > 1:\n",
    "                            min_spend = env.item_master[(env.item_master[\"Supplier ID\"].isin(max_score_supplier_df.to_list())) & (env.item_master[\"ECN\"] == ecn.ecn_id)][\"FY Spend\"].min()\n",
    "                            max_score_supplier_id = env.item_master[(env.item_master[\"ECN\"] == ecn.ecn_id) & (env.item_master[\"FY Spend\"] == min_spend)][\"Supplier ID\"].item()\n",
    "                        else:\n",
    "                            max_score_supplier_id = max_score_supplier_df.item()\n",
    "\n",
    "                        max_score_supplier = env.get_supplier(\"id\", max_score_supplier_id)\n",
    "                        env.implement_ecn(ecn, max_score_supplier)\n",
    "                        implemented_ecns += 1\n",
    "                        #print(f\"{colors.Regular.bold}{clock}:{colors.Text.end} {max_score_supplier.name} awarded for {ecn.ecn_id} by desempate.\")\n",
    "                    \n",
    "                    elif len(env.item_master[(env.item_master[\"ECN\"] == ecn.ecn_id) & (env.item_master[\"Quotation date\"] == clock)][\"Supplier ID\"].unique()) > 1:\n",
    "                        for quotation in ecn.quotations:\n",
    "                            if quotation.date == clock:\n",
    "                                supplier_id = quotation.supplier.id\n",
    "\n",
    "                                try:     \n",
    "                                    evaluator = simulation.Fuzzy_Model(env.item_master, quotation.supplier, quotation.ecn, new_suppliers=False, imported_data=imported_data)\n",
    "                                    stats = evaluator.get_stats()\n",
    "                                except ZeroDivisionError:\n",
    "                                    evaluator = simulation.Fuzzy_Model(env.item_master, quotation.supplier, quotation.ecn, new_suppliers=True, imported_data=imported_data)\n",
    "                                    stats = evaluator.get_stats()\n",
    "                                    \n",
    "                                fuzzy_evaluation.loc[len(fuzzy_evaluation)] = [\n",
    "                                    run + 1,\n",
    "                                    ecn.ecn_id,\n",
    "                                    stats[\"Supplier ID\"],\n",
    "                                    stats[\"New supplier\"],\n",
    "                                    stats[\"Rule 1\"], stats[\"Rule 2\"], stats[\"Rule 3\"], stats[\"Rule 4\"], stats[\"Rule 5\"], stats[\"Rule 6\"],\n",
    "                                    stats[\"Rule 7\"], stats[\"Rule 8\"], stats[\"Rule 9\"], stats[\"Rule 10\"], stats[\"Rule 11\"], stats[\"Rule 12\"],\n",
    "                                    stats[\"Rule 13\"], stats[\"Rule 14\"], stats[\"Rule 15\"], stats[\"Rule 16\"], stats[\"Rule 17\"], stats[\"Rule 18\"],\n",
    "                                    stats[\"Score\"],\n",
    "                                    stats[\"Wait\"],\n",
    "                                    stats[\"Implement\"],\n",
    "                                    stats[\"Action\"]\n",
    "                                ]\n",
    "\n",
    "                        max_score = fuzzy_evaluation[(fuzzy_evaluation[\"Iteration\"] == run + 1) & (fuzzy_evaluation[\"ECN\"] == ecn.ecn_id)][\"Score\"].max()\n",
    "                        max_score_supplier_df = fuzzy_evaluation[(fuzzy_evaluation[\"Iteration\"] == run + 1) & (fuzzy_evaluation[\"ECN\"] == ecn.ecn_id) & (fuzzy_evaluation[\"Score\"] == max_score)][\"Supplier ID\"]\n",
    "\n",
    "                        if len(max_score_supplier_df) > 1:\n",
    "                            min_spend = env.item_master[(env.item_master[\"Supplier ID\"].isin(max_score_supplier_df.to_list())) & (env.item_master[\"ECN\"] == ecn.ecn_id)][\"FY Spend\"].min()\n",
    "                            max_score_supplier_id = env.item_master[(env.item_master[\"ECN\"] == ecn.ecn_id) & (env.item_master[\"FY Spend\"] == min_spend)][\"Supplier ID\"].item()\n",
    "                        else:\n",
    "                            max_score_supplier_id = max_score_supplier_df.item()\n",
    "\n",
    "                        max_score_supplier = env.get_supplier(\"id\", max_score_supplier_id)\n",
    "                        env.implement_ecn(ecn, max_score_supplier)\n",
    "                        implemented_ecns += 1\n",
    "                        #print(f\"{colors.Regular.bold}{clock}:{colors.Text.end} {max_score_supplier.name} awarded for {ecn.ecn_id} by desempate.\")\n",
    "                    else:\n",
    "                        for quotation in ecn.quotations:\n",
    "                            if quotation.date == clock:\n",
    "                                supplier_id = quotation.supplier.id\n",
    "                                #print(f\"{colors.Regular.bold}{clock}:{colors.Text.end} {ecn.ecn_id} quotation received from {supplier_id}.\")\n",
    "\n",
    "                                try:     \n",
    "                                    evaluator = simulation.Fuzzy_Model(env.item_master, quotation.supplier, quotation.ecn, new_suppliers=False, imported_data=imported_data)\n",
    "                                    stats = evaluator.get_stats()\n",
    "                                except ZeroDivisionError:\n",
    "                                    evaluator = simulation.Fuzzy_Model(env.item_master, quotation.supplier, quotation.ecn, new_suppliers=True, imported_data=imported_data)\n",
    "                                    stats = evaluator.get_stats()\n",
    "\n",
    "                                fuzzy_evaluation.loc[len(fuzzy_evaluation)] = [\n",
    "                                    run + 1,\n",
    "                                    ecn.ecn_id,\n",
    "                                    stats[\"Supplier ID\"],\n",
    "                                    stats[\"New supplier\"],\n",
    "                                    stats[\"Rule 1\"], stats[\"Rule 2\"], stats[\"Rule 3\"], stats[\"Rule 4\"], stats[\"Rule 5\"], stats[\"Rule 6\"],\n",
    "                                    stats[\"Rule 7\"], stats[\"Rule 8\"], stats[\"Rule 9\"], stats[\"Rule 10\"], stats[\"Rule 11\"], stats[\"Rule 12\"],\n",
    "                                    stats[\"Rule 13\"], stats[\"Rule 14\"], stats[\"Rule 15\"], stats[\"Rule 16\"], stats[\"Rule 17\"], stats[\"Rule 18\"],\n",
    "                                    stats[\"Score\"],\n",
    "                                    stats[\"Wait\"],\n",
    "                                    stats[\"Implement\"],\n",
    "                                    stats[\"Action\"]\n",
    "                                ]\n",
    "                                #print(f\"{colors.Regular.bold}{clock}:{colors.Text.end} {quotation.supplier.name} score is {stats['Score']}\")\n",
    "\n",
    "                                if stats[\"Action\"] == \"Implement\":\n",
    "                                    env.implement_ecn(ecn, quotation.supplier)\n",
    "                                    implemented_ecns += 1\n",
    "                                    #print(f\"{colors.Regular.bold}{clock}:{colors.Text.end} {quotation.supplier.name} awarded for {ecn.ecn_id}.\")\n",
    "                    \n",
    "        if implemented_ecns == ecn_qty:\n",
    "            continue_simulation = False\n",
    "        else:\n",
    "            clock += timedelta(days=1)\n",
    "\n",
    "    otd = len(env.item_master[(env.item_master[\"Project\"] == \"Juneau\") & (env.item_master[\"Awarded\"] == True) & (env.item_master[\"SOP ready\"] == True)]) / len(env.item_master[(env.item_master[\"Project\"] == \"Juneau\") & (env.item_master[\"Awarded\"] == True)])\n",
    "    otd_sop.append(otd)\n",
    "\n",
    "    for ecn in juneau.ecns:\n",
    "        for quotation in ecn.quotations:\n",
    "            for supplier in env.active_suppliers:\n",
    "                for supplier_quotation in supplier.quotations:\n",
    "                    if supplier_quotation == quotation:\n",
    "                        supplier.quotations.remove(quotation)\n",
    "                if ecn in supplier.awarded_ecns:\n",
    "                    supplier.awarded_ecns.remove(ecn)\n",
    "        ecn.quotations = []\n",
    "\n",
    "    env.item_master.loc[env.item_master[\"Project\"] == \"Juneau\", \"Iteration\"] = run + 1\n",
    "    simulation_results = pd.concat([simulation_results, env.item_master[env.item_master[\"Project\"] == \"Juneau\"]], ignore_index=True)\n",
    "\n",
    "    env.item_master = env.item_master[env.item_master[\"Project\"] != \"Juneau\"]\n",
    "\n",
    "now = datetime.now().strftime(\"%d%m%Y%H%M%S\")\n",
    "simulation_results.to_excel(f\"./Results/Implementation_results-{now}.xlsx\")\n",
    "fuzzy_evaluation.to_excel(f\"./Results/Fuzzy_evaluation_results-{now}.xlsx\")\n",
    "\n",
    "mean(otd_sop)"
   ]
  },
  {
   "cell_type": "markdown",
   "id": "482f148c",
   "metadata": {},
   "source": [
    "### 2.3. Scenario 2: Strategic evaluation"
   ]
  },
  {
   "cell_type": "markdown",
   "id": "622deb80",
   "metadata": {},
   "source": [
    "## Define parameters for fuzzy variables"
   ]
  },
  {
   "cell_type": "code",
   "execution_count": null,
   "id": "23bb5c6f",
   "metadata": {},
   "outputs": [],
   "source": [
    "for ecn in juneau.ecns:\n",
    "    env.quote_ecn_all_suppliers(ecn)\n",
    "\n",
    "juneau_df = env.item_master[env.item_master[\"Project\"] == \"Juneau\"]\n",
    "juneau_df.to_excel(\"./Results/Scenario2_Juneau_quotations.xlsx\")"
   ]
  },
  {
   "cell_type": "code",
   "execution_count": null,
   "id": "5d609e69",
   "metadata": {},
   "outputs": [],
   "source": [
    "def get_µσ_punctuality(profile: str):\n",
    "    punctuality_list = []\n",
    "\n",
    "    for supplier_id in env.item_master[(env.item_master[\"Awarded\"] == True) & (env.item_master[\"Delivery profile\"] == profile)][\"Supplier ID\"].unique():\n",
    "        punctuality = len(env.item_master[(env.item_master[\"Supplier ID\"] == supplier_id) & (env.item_master[\"Awarded\"] == True) & (env.item_master[\"OTD\"] == True)]) / len(env.item_master[(env.item_master[\"Supplier ID\"] == supplier_id) & (env.item_master[\"Awarded\"] == True)])\n",
    "\n",
    "        punctuality_list.append(punctuality)\n",
    "\n",
    "    return (mean(punctuality_list), stdev(punctuality_list))\n",
    "\n",
    "max_delivery_time = round(env.item_master[(env.item_master[\"Awarded\"] == True)][\"Delivery time\"].max())\n",
    "max_quotation_time = round(env.item_master[(env.item_master[\"Awarded\"] == True)][\"Quotation time\"].max())\n",
    "µ_business_total = float(env.item_master[(env.item_master[\"Project\"] == \"Juneau\")][[\"Supplier name\", \"FY Spend\"]].groupby(\"Supplier name\").sum().mean())\n",
    "σ_business_total = float(env.item_master[(env.item_master[\"Project\"] == \"Juneau\")][[\"Supplier name\", \"FY Spend\"]].groupby(\"Supplier name\").sum().std())\n",
    "min_business_total = max(µ_business_total - 3*σ_business_total, 0)\n",
    "max_business_total = µ_business_total + 3*σ_business_total\n",
    "\n",
    "var_delivery_time = np.arange(0, max_delivery_time + 1, 1)\n",
    "var_price = np.arange(floor(µ_business_total - 3*σ_business_total), ceil(µ_business_total + 3*σ_business_total), 0.01)\n",
    "var_punctuality = np.arange(0, 2, 0.01)\n",
    "var_supplier = np.arange(0, 11, 0.01)\n",
    "\n",
    "µ_delivery_time = round(env.item_master[(env.item_master[\"Awarded\"] == True)][\"Delivery time\"].mean())\n",
    "σ_delivery_time = round(env.item_master[(env.item_master[\"Awarded\"] == True)][\"Delivery time\"].std())\n",
    "\n",
    "µ_punctuality_low, σ_punctuality_low = get_μσ_punctuality(\"low\")\n",
    "µ_punctuality_medium, σ_punctuality_medium = get_μσ_punctuality(\"regular\")\n",
    "µ_punctuality_high, σ_punctuality_high = get_μσ_punctuality(\"high\")\n",
    "\n",
    "delivery_time_low = fuzzy.trapmf(var_delivery_time, [0, 0, µ_delivery_time - σ_delivery_time, µ_delivery_time])\n",
    "delivery_time_medium = fuzzy.trimf(var_delivery_time, [µ_delivery_time - σ_delivery_time, µ_delivery_time, µ_delivery_time + σ_delivery_time])\n",
    "delivery_time_high = fuzzy.trapmf(var_delivery_time, [µ_delivery_time, µ_delivery_time + σ_delivery_time, max_delivery_time, max_delivery_time])\n",
    "\n",
    "punctuality_low = fuzzy.trapmf(var_punctuality, [0, 0, 0.25, 0.5])\n",
    "punctuality_medium = fuzzy.trimf(var_punctuality, [0.25, 0.5, 0.75])\n",
    "punctuality_high = fuzzy.trapmf(var_punctuality, [0.5, 0.75, 1, 1])\n",
    "\n",
    "price_low = fuzzy.trapmf(var_price, [floor(min_business_total), floor(min_business_total), round(µ_business_total - σ_business_total), round(μ_business_total)])\n",
    "price_medium = fuzzy.trimf(var_price, [round(μ_business_total - σ_business_total), round(μ_business_total), round(μ_business_total + σ_business_total)])\n",
    "price_high = fuzzy.trapmf(var_price, [round(μ_business_total), round(μ_business_total + σ_business_total), ceil(max_business_total), ceil(max_business_total)])\n",
    "\n",
    "supplier_low = fuzzy.trimf(var_supplier, [0, 2.5, 5])\n",
    "supplier_medium = fuzzy.trimf(var_supplier, [2.5, 5, 7.5])\n",
    "supplier_high = fuzzy.trimf(var_supplier, [5, 7.5, 10])\n",
    "\n",
    "fig, (ax0, ax1, ax2, ax3) = plt.subplots(nrows=4, figsize=(8, 9))\n",
    "\n",
    "ax0.plot(var_delivery_time, delivery_time_low, \"b\", linewidth=1.5, label=\"Good\")\n",
    "ax0.plot(var_delivery_time, delivery_time_medium, \"g\", linewidth=1.5, label=\"Regular\")\n",
    "ax0.plot(var_delivery_time, delivery_time_high, \"r\", linewidth=1.5, label=\"Bad\")\n",
    "ax0.set_title(\"Delivery time\")\n",
    "ax0.legend()\n",
    "\n",
    "ax1.plot(var_punctuality, punctuality_low, \"b\", linewidth=1.5, label=\"Bad\")\n",
    "ax1.plot(var_punctuality, punctuality_medium, \"g\", linewidth=1.5, label=\"Regular\")\n",
    "ax1.plot(var_punctuality, punctuality_high, \"r\", linewidth=1.5, label=\"Good\")\n",
    "ax1.set_title(\"Punctuality\")\n",
    "ax1.legend()\n",
    "\n",
    "ax2.plot(var_price, price_low, \"b\", linewidth=1.5, label=\"Low\")\n",
    "ax2.plot(var_price, price_medium, \"g\", linewidth=1.5, label=\"Regular\")\n",
    "ax2.plot(var_price, price_high, \"r\", linewidth=1.5, label=\"High\")\n",
    "ax2.set_title(\"Price\")\n",
    "ax2.legend()\n",
    "\n",
    "ax3.plot(var_supplier, supplier_low, \"b\", linewidth=1.5, label=\"Bad\")\n",
    "ax3.plot(var_supplier, supplier_medium, \"g\", linewidth=1.5, label=\"Regular\")\n",
    "ax3.plot(var_supplier, supplier_high, \"r\", linewidth=1.5, label=\"Good\")\n",
    "ax3.set_title(\"Supplier\")\n",
    "ax3.legend()\n",
    "\n",
    "for ax in [ax0, ax1, ax2, ax3]:\n",
    "    ax.spines[\"top\"].set_visible(False)\n",
    "    ax.spines[\"right\"].set_visible(False)\n",
    "    ax.get_xaxis().tick_bottom()\n",
    "    ax.get_yaxis().tick_left()\n",
    "\n",
    "plt.tight_layout()\n",
    "plt.show()"
   ]
  },
  {
   "cell_type": "code",
   "execution_count": null,
   "id": "9557a8f4",
   "metadata": {},
   "outputs": [],
   "source": [
    "new_juneau_ecns = env.gen_ecns(juneau, 10)"
   ]
  },
  {
   "cell_type": "code",
   "execution_count": null,
   "id": "d01a4178",
   "metadata": {},
   "outputs": [],
   "source": [
    "estrella = simulation.Supplier(\"Tuberías Súper, S.A.P.I.\", \"low\", \"low\", \"low\", \"high\")\n",
    "env.add_supplier(estrella)"
   ]
  },
  {
   "cell_type": "code",
   "execution_count": null,
   "id": "5a4deb6d",
   "metadata": {},
   "outputs": [],
   "source": [
    "for ecn in juneau.ecns:\n",
    "    env.quote_ecn_some_suppliers(ecn, [estrella])"
   ]
  },
  {
   "cell_type": "code",
   "execution_count": null,
   "id": "915f6f55",
   "metadata": {},
   "outputs": [],
   "source": [
    "analyse_ecns = []\n",
    "\n",
    "for ecn in new_juneau_ecns:\n",
    "    analyse_ecns.append(ecn.ecn_id)"
   ]
  },
  {
   "cell_type": "code",
   "execution_count": null,
   "id": "558ee96e",
   "metadata": {},
   "outputs": [],
   "source": [
    "env.item_master[env.item_master[\"Supplier ID\"] == estrella.id]"
   ]
  },
  {
   "cell_type": "code",
   "execution_count": null,
   "id": "145010fb",
   "metadata": {},
   "outputs": [],
   "source": [
    "env.item_master.groupby([\"ECN\", \"Supplier ID\"])[[\"Price\"]].sum().max()"
   ]
  },
  {
   "cell_type": "markdown",
   "id": "54e4af81",
   "metadata": {},
   "source": [
    "### Price\n",
    "\n",
    "**Low** (Average/Min/Max) **:** 165/34/296\n",
    "\n",
    "**Regular** (Average/Min/Max) **:** 195/43/347\n",
    "\n",
    "**High** (Average/Min/Max) **:** 232/51/413\n"
   ]
  },
  {
   "cell_type": "code",
   "execution_count": null,
   "id": "ff3edcef",
   "metadata": {},
   "outputs": [],
   "source": [
    "evaluation_supplier_id = \"10000073\"\n",
    "\n",
    "crisp_delivery_time = env.item_master[(env.item_master[\"Supplier ID\"] == evaluation_supplier_id) & (env.item_master[\"Awarded\"] == True)][\"Delivery time\"].mean()\n",
    "crisp_price = env.item_master[(env.item_master[\"Project\"] == \"Juneau\") & (env.item_master[\"Supplier ID\"] == evaluation_supplier_id)][\"FY Spend\"].sum()\n",
    "#crisp_price = env.item_master[(env.item_master[\"Project\"] == \"Juneau\") & (env.item_master[\"Supplier ID\"] == evaluation_supplier_id) & env.item_master[\"ECN\"].isin(analyse_ecns)][\"FY Spend\"].sum()\n",
    "try:\n",
    "    crisp_punctuality = len(env.item_master[(env.item_master[\"Supplier ID\"] == evaluation_supplier_id) & (env.item_master[\"Awarded\"] == True) & (env.item_master[\"OTD\"] == True)]) / len(env.item_master[(env.item_master[\"Supplier ID\"] == evaluation_supplier_id) & (env.item_master[\"Awarded\"] == True)])\n",
    "    new_supplier = False\n",
    "except:\n",
    "    new_supplier = True\n",
    "    crisp_delivery_time = env.item_master[(env.item_master[\"Supplier ID\"] == evaluation_supplier_id) & (env.item_master[\"ECN\"].isin(juneau.ecns))][\"Lead time\"].mean()\n",
    "\n",
    "# Assign membership degree\n",
    "price_level_low = fuzzy.interp_membership(var_price, price_low, crisp_price)\n",
    "price_level_medium = fuzzy.interp_membership(var_price, price_medium, crisp_price)\n",
    "price_level_high = fuzzy.interp_membership(var_price, price_high, crisp_price)\n",
    "\n",
    "if not new_supplier:\n",
    "    punctuality_level_low = fuzzy.interp_membership(var_punctuality, punctuality_low, crisp_punctuality)\n",
    "    punctuality_level_medium = fuzzy.interp_membership(var_punctuality, punctuality_medium, crisp_punctuality)\n",
    "    punctuality_level_high = fuzzy.interp_membership(var_punctuality, punctuality_high, crisp_punctuality)\n",
    "\n",
    "delivery_time_level_low = fuzzy.interp_membership(var_delivery_time, delivery_time_low, crisp_delivery_time)\n",
    "delivery_time_level_medium = fuzzy.interp_membership(var_delivery_time, delivery_time_medium, crisp_delivery_time)\n",
    "delivery_time_level_high = fuzzy.interp_membership(var_delivery_time, delivery_time_high, crisp_delivery_time)\n",
    "\n",
    "# Rule application\n",
    "# Example code uses np.fmax for OR operator. I will use np.fmin for AND.\n",
    "if new_supplier:\n",
    "    rule_1 = min(max(price_level_low, price_level_medium), delivery_time_level_low) # High\n",
    "\n",
    "    rule_2 = min(max(price_level_low, price_level_medium), delivery_time_level_medium) # Regular\n",
    "\n",
    "    rule_3 = min(max(price_level_low, price_level_medium), delivery_time_level_high) # Low\n",
    "\n",
    "    rule_4 = price_level_high # Low\n",
    "\n",
    "    low_strength = max(rule_3, rule_4)\n",
    "    medium_strength = rule_2\n",
    "    high_strength = rule_1\n",
    "else:\n",
    "    rule_1 = min(delivery_time_level_low, max(price_level_low, price_level_medium), punctuality_level_low)  # Regular\n",
    "\n",
    "    rule_2 = min(delivery_time_level_low, max(price_level_low, price_level_medium), max(punctuality_level_medium, punctuality_level_high))  # High\n",
    "\n",
    "    rule_3 = min(delivery_time_level_low, price_level_high, punctuality_level_low)  # Low\n",
    "\n",
    "    rule_4 = min(delivery_time_level_low, price_level_high, max(punctuality_level_medium, punctuality_level_high))  # Regular\n",
    "\n",
    "    rule_5 = min(delivery_time_level_medium, price_level_low, punctuality_level_low)    # Regular\n",
    "\n",
    "    rule_6 = min(max(delivery_time_level_medium, delivery_time_level_high), max(price_level_low, price_level_medium), punctuality_level_medium) # Regular\n",
    "\n",
    "    rule_7 = min(max(delivery_time_level_medium, delivery_time_level_high), max(price_level_low, price_level_medium), punctuality_level_high)   # High\n",
    "    #rule_7 = min(delivery_time_level_medium, max(price_level_low, price_level_medium), punctuality_level_high)   # High\n",
    "\n",
    "    rule_8 = min(delivery_time_level_medium, max(price_level_medium, price_level_high), punctuality_level_low)  # Low\n",
    "\n",
    "    rule_9 = min(max(delivery_time_level_medium, delivery_time_level_high), price_level_high, punctuality_level_medium) # Low\n",
    "\n",
    "    rule_10 = min(max(delivery_time_level_medium, delivery_time_level_high), price_level_high, punctuality_level_high)  # Medium\n",
    "\n",
    "    rule_11 = min(delivery_time_level_high, punctuality_level_low)    # Low\n",
    "\n",
    "    low_strength = max(rule_3, rule_8, rule_9, rule_11)\n",
    "    medium_strength = max(rule_1, rule_4, rule_5, rule_6, rule_10)\n",
    "    high_strength = max(rule_2, rule_7)\n",
    "\n",
    "supplier_activation_low = np.fmin(low_strength, supplier_low)\n",
    "supplier_activation_medium = np.fmin(medium_strength, supplier_medium)\n",
    "supplier_activation_high = np.fmin(high_strength, supplier_high)\n",
    "\n",
    "supplier_0 = np.zeros_like(var_supplier)\n",
    "\n",
    "aggregated = np.fmax.reduce([supplier_activation_low, supplier_activation_medium, supplier_activation_high])\n",
    "\n",
    "\n",
    "# Defuzzification\n",
    "supplier_score = fuzzy.defuzz(var_supplier, aggregated, \"centroid\")\n",
    "supplier_activation = fuzzy.interp_membership(var_supplier, aggregated, supplier_score)\n",
    "\n",
    "fig, (ax5, ax6) = plt.subplots(nrows=2, figsize=(8, 9))\n",
    "\n",
    "ax5.fill_between(var_supplier, supplier_0, supplier_activation_low, facecolor=\"b\", alpha=0.7)\n",
    "ax5.plot(var_supplier, supplier_low, \"b\", linewidth=0.5, linestyle=\"--\")\n",
    "ax5.fill_between(var_supplier, supplier_0, supplier_activation_medium, facecolor=\"g\", alpha=0.7)\n",
    "ax5.plot(var_supplier, supplier_medium, \"g\", linewidth=0.5, linestyle=\"--\")\n",
    "ax5.fill_between(var_supplier, supplier_0, supplier_activation_high, facecolor=\"r\", alpha=0.7)\n",
    "ax5.plot(var_supplier, supplier_high, \"r\", linewidth=0.5, linestyle=\"--\")\n",
    "ax5.set_title(\"Output membership\")\n",
    "\n",
    "ax6.plot(var_supplier, supplier_low, \"b\", linewidth=0.5, linestyle=\"--\")\n",
    "ax6.plot(var_supplier, supplier_medium, \"g\", linewidth=0.5, linestyle=\"--\")\n",
    "ax6.plot(var_supplier, supplier_high, \"r\", linewidth=0.5, linestyle=\"--\")\n",
    "ax6.fill_between(var_supplier, supplier_0, aggregated, facecolor=\"Orange\", alpha=0.7)\n",
    "ax6.plot([supplier_score, supplier_score], [0, supplier_activation], \"k\", linewidth=1.5, alpha=0.9)\n",
    "ax6.set_title(\"Aggregated membership and supplier score (line)\")\n",
    "\n",
    "for ax in [ax5, ax6]:\n",
    "    ax.spines[\"top\"].set_visible(False)\n",
    "    ax.spines[\"right\"].set_visible(False)\n",
    "    ax.get_xaxis().tick_bottom()\n",
    "    ax.get_yaxis().tick_left()\n",
    "\n",
    "plt.tight_layout()\n",
    "plt.show()"
   ]
  },
  {
   "cell_type": "code",
   "execution_count": null,
   "id": "4be89ba6",
   "metadata": {},
   "outputs": [],
   "source": [
    "print(f\"Supplier score: {supplier_score}\")\n",
    "\n",
    "print(\"Rules:\")\n",
    "for i, rule in enumerate([rule_1, rule_2, rule_3, rule_4, rule_5, rule_6, rule_7, rule_8, rule_9, rule_10, rule_11]):\n",
    "    print(f\"Rule {i+1}: {rule:.3f}\")\n",
    "\n",
    "print(\"\\nSupplier activations:\")\n",
    "print(f\"Low: {supplier_activation_low.max():.3f}\")\n",
    "print(f\"Medium: {supplier_activation_medium.max():.3f}\")\n",
    "print(f\"High: {supplier_activation_high.max():.3f}\")\n",
    "\n",
    "print(\"\\nCrisp values\")\n",
    "print(f\"Average delivery time: {crisp_delivery_time}\")\n",
    "print(f\"Total business cost: {crisp_price}\")\n",
    "print(f\"Supplier punctuality: {crisp_punctuality}\")"
   ]
  },
  {
   "cell_type": "code",
   "execution_count": null,
   "id": "86276443",
   "metadata": {},
   "outputs": [],
   "source": [
    "env.item_master[(env.item_master[\"Awarded\"] == True) & (env.item_master[\"Supplier ID\"] == evaluation_supplier_id)]"
   ]
  },
  {
   "cell_type": "code",
   "execution_count": null,
   "id": "5d7059fd",
   "metadata": {},
   "outputs": [],
   "source": [
    "testing_supplier = env.get_supplier(\"id\", \"10000082\")\n",
    "otd_sop = []\n",
    "\n",
    "for i in range(100):\n",
    "    for ecn in juneau.ecns:\n",
    "        env.implement_ecn(ecn, testing_supplier, overwrite=True)\n",
    "    \n",
    "    otd = len(env.item_master[(env.item_master[\"Project\"] == \"Juneau\") & (env.item_master[\"Supplier ID\"] == testing_supplier.id) & (env.item_master[\"Awarded\"] == True) & (env.item_master[\"SOP ready\"] == True)]) / len(env.item_master[(env.item_master[\"Project\"] == \"Juneau\") & (env.item_master[\"Supplier ID\"] == testing_supplier.id) & (env.item_master[\"Awarded\"] == True)])\n",
    "\n",
    "    otd_sop.append(otd)\n",
    "\n",
    "mean(otd_sop)"
   ]
  },
  {
   "cell_type": "markdown",
   "id": "23723730",
   "metadata": {},
   "source": [
    "## 3. Result analysis"
   ]
  },
  {
   "cell_type": "markdown",
   "id": "86859779",
   "metadata": {},
   "source": [
    "### 3.1. Scenario 1"
   ]
  },
  {
   "cell_type": "markdown",
   "id": "ef5359a3",
   "metadata": {},
   "source": [
    "#### 3.1.1. Only existing suppliers"
   ]
  },
  {
   "cell_type": "code",
   "execution_count": 10,
   "id": "3ff36e1a",
   "metadata": {},
   "outputs": [],
   "source": [
    "scenario1_existing_supplier_item_master_df = pd.read_excel(\"./Results/Scenario1/Implementation_results_(only_existent).xlsx\")\n",
    "scenario1_existing_supplier_item_master_df = scenario1_existing_supplier_item_master_df.drop([\"Unnamed: 0\"], axis=1)\n",
    "\n",
    "short_df = scenario1_existing_supplier_item_master_df[scenario1_existing_supplier_item_master_df[\"Awarded\"] == True][[\"Iteration\", \"ECN\", \"Supplier name\", \"SOP ready\"]].drop_duplicates().reset_index().drop([\"index\"], axis=1)\n",
    "#short_df.groupby([\"Iteration\", \"Supplier name\"]).count()[[\"ECN\"]].to_excel(\"ecn_qty_per_supplier_scenario1-1.xlsx\")"
   ]
  },
  {
   "cell_type": "code",
   "execution_count": 22,
   "id": "608669c9",
   "metadata": {},
   "outputs": [],
   "source": [
    "scenario1_new_supplier_item_master_df = pd.read_excel(\"./Results/Scenario1/Implementation_results_(including_new).xlsx\")\n",
    "scenario1_new_supplier_item_master_df = scenario1_new_supplier_item_master_df.drop([\"Unnamed: 0\"], axis=1)\n",
    "\n",
    "short_df = scenario1_new_supplier_item_master_df[scenario1_new_supplier_item_master_df[\"Awarded\"] == True][[\"Iteration\", \"ECN\", \"Supplier name\", \"SOP ready\"]].drop_duplicates().reset_index().drop([\"index\"], axis=1)\n",
    "#short_df.groupby([\"Iteration\", \"Supplier name\"]).count()[[\"ECN\"]].to_excel(\"ecn_qty_per_supplier_scenario1-2-2.xlsx\")"
   ]
  },
  {
   "cell_type": "code",
   "execution_count": 6,
   "id": "673bea4c",
   "metadata": {},
   "outputs": [],
   "source": [
    "scenario1_existing_supplier_fuzzy_evaluation_df = pd.read_excel(\"./Results/Scenario1/Fuzzy_evaluation_results_(only_existent).xlsx\")"
   ]
  },
  {
   "cell_type": "code",
   "execution_count": 23,
   "id": "bad644b2",
   "metadata": {},
   "outputs": [
    {
     "data": {
      "application/vnd.microsoft.datawrangler.viewer.v0+json": {
       "columns": [
        {
         "name": "index",
         "rawType": "int64",
         "type": "integer"
        },
        {
         "name": "Supplier",
         "rawType": "object",
         "type": "string"
        },
        {
         "name": "OTD",
         "rawType": "float64",
         "type": "float"
        }
       ],
       "ref": "516c071e-74e4-4a16-9f3c-a394013bbd7f",
       "rows": [
        [
         "0",
         "Tuberías GHI, S.A.S.",
         "0.6137325637325637"
        ],
        [
         "1",
         "Tuberías DEF, S. de R.L.",
         "0.5080227743271222"
        ],
        [
         "2",
         "Tuberías ABC, S.A. de C.V.",
         "0.6565"
        ],
        [
         "3",
         "Tuberías Súper, S.A.P.I.",
         "0.0"
        ]
       ],
       "shape": {
        "columns": 2,
        "rows": 4
       }
      },
      "text/html": [
       "<div>\n",
       "<style scoped>\n",
       "    .dataframe tbody tr th:only-of-type {\n",
       "        vertical-align: middle;\n",
       "    }\n",
       "\n",
       "    .dataframe tbody tr th {\n",
       "        vertical-align: top;\n",
       "    }\n",
       "\n",
       "    .dataframe thead th {\n",
       "        text-align: right;\n",
       "    }\n",
       "</style>\n",
       "<table border=\"1\" class=\"dataframe\">\n",
       "  <thead>\n",
       "    <tr style=\"text-align: right;\">\n",
       "      <th></th>\n",
       "      <th>Supplier</th>\n",
       "      <th>OTD</th>\n",
       "    </tr>\n",
       "  </thead>\n",
       "  <tbody>\n",
       "    <tr>\n",
       "      <th>0</th>\n",
       "      <td>Tuberías GHI, S.A.S.</td>\n",
       "      <td>0.613733</td>\n",
       "    </tr>\n",
       "    <tr>\n",
       "      <th>1</th>\n",
       "      <td>Tuberías DEF, S. de R.L.</td>\n",
       "      <td>0.508023</td>\n",
       "    </tr>\n",
       "    <tr>\n",
       "      <th>2</th>\n",
       "      <td>Tuberías ABC, S.A. de C.V.</td>\n",
       "      <td>0.656500</td>\n",
       "    </tr>\n",
       "    <tr>\n",
       "      <th>3</th>\n",
       "      <td>Tuberías Súper, S.A.P.I.</td>\n",
       "      <td>0.000000</td>\n",
       "    </tr>\n",
       "  </tbody>\n",
       "</table>\n",
       "</div>"
      ],
      "text/plain": [
       "                     Supplier       OTD\n",
       "0        Tuberías GHI, S.A.S.  0.613733\n",
       "1    Tuberías DEF, S. de R.L.  0.508023\n",
       "2  Tuberías ABC, S.A. de C.V.  0.656500\n",
       "3    Tuberías Súper, S.A.P.I.  0.000000"
      ]
     },
     "execution_count": 23,
     "metadata": {},
     "output_type": "execute_result"
    }
   ],
   "source": [
    "supplier_otd = {\n",
    "    \"Supplier\": [],\n",
    "    \"OTD\": []\n",
    "}\n",
    "\n",
    "for supplier in short_df[\"Supplier name\"].unique():\n",
    "\n",
    "    otd_list = []\n",
    "    for i in range(1,101):\n",
    "        try:\n",
    "            otd = len(short_df[(short_df[\"Iteration\"] == i) & (short_df[\"Supplier name\"] == supplier) & (short_df[\"SOP ready\"] == True)]) / len(short_df[(short_df[\"Iteration\"] == i) & (short_df[\"Supplier name\"] == supplier)])\n",
    "            otd_list.append(otd)\n",
    "        except ZeroDivisionError:\n",
    "            pass\n",
    "    \n",
    "    supplier_otd[\"Supplier\"].append(supplier)\n",
    "    supplier_otd[\"OTD\"].append(mean(otd_list))\n",
    "\n",
    "pd.DataFrame(data=supplier_otd)"
   ]
  },
  {
   "cell_type": "code",
   "execution_count": 24,
   "id": "6eab2b39",
   "metadata": {},
   "outputs": [
    {
     "data": {
      "text/plain": [
       "0.576"
      ]
     },
     "execution_count": 24,
     "metadata": {},
     "output_type": "execute_result"
    }
   ],
   "source": [
    "otd_list = []\n",
    "\n",
    "for i in range(1,101):\n",
    "    otd = len(short_df[(short_df[\"Iteration\"] == i) & (short_df[\"SOP ready\"] == True)]) / len(short_df[(short_df[\"Iteration\"] == i)])\n",
    "    otd_list.append(otd)\n",
    "\n",
    "mean(otd_list)"
   ]
  }
 ],
 "metadata": {
  "kernelspec": {
   "display_name": "Python 3",
   "language": "python",
   "name": "python3"
  },
  "language_info": {
   "codemirror_mode": {
    "name": "ipython",
    "version": 3
   },
   "file_extension": ".py",
   "mimetype": "text/x-python",
   "name": "python",
   "nbconvert_exporter": "python",
   "pygments_lexer": "ipython3",
   "version": "3.11.6"
  }
 },
 "nbformat": 4,
 "nbformat_minor": 5
}
