{
 "cells": [
  {
   "cell_type": "markdown",
   "id": "5157dd45",
   "metadata": {},
   "source": [
    "### Module import\n",
    "In this code section the required modules are imported:\n",
    "* __*date*__ to create a simulated NPI project. `Project`class requires milestone dates in `Date` class (format).\n",
    "* __*matplotlib*__ to plot the fuzzy functions.\n",
    "* __*numpy*__ to work with values in fuzzy variables.\n",
    "* __*simulation*__ is a custom module with the required classes to simulate the NPI Sourcing process. The code can be found in `simulation.py` or `simulation.ipynb`.\n",
    "* __*skfuzzy*__ is a fuzzy logic framework for Python."
   ]
  },
  {
   "cell_type": "code",
   "execution_count": null,
   "id": "d73b174c",
   "metadata": {},
   "outputs": [],
   "source": [
    "from datetime import date\n",
    "from math import ceil, floor\n",
    "from statistics import mean, stdev\n",
    "import matplotlib.pyplot as plt\n",
    "import numpy as np\n",
    "import simulation\n",
    "import skfuzzy as fuzzy"
   ]
  },
  {
   "cell_type": "markdown",
   "id": "2c0563d8",
   "metadata": {},
   "source": [
    "## Generate training data frame"
   ]
  },
  {
   "cell_type": "markdown",
   "id": "e65c199d",
   "metadata": {},
   "source": [
    "### Generate sample suppliers\n",
    "Based in fuzzy variables (delivery time, quotation time, price, punctuality) and their values (low, regular, high), it will be necessary to generate 81 suppliers with different profiles each one, aiming to obtain a initial data frame with unbiased data.\n",
    "Supplier/profile quantity is calculated as follows in this formula: $`R_{max} = \\prod_{i=1}^{n} m_{i} = \\prod_{i=1}^{4} 3 = 3^{4} = 81`$"
   ]
  },
  {
   "cell_type": "code",
   "execution_count": null,
   "id": "6cd186c8",
   "metadata": {},
   "outputs": [],
   "source": [
    "env = simulation.Environment()  # Initialize environment for the simulation.\n",
    "\n",
    "current_supplier_names = (\"Tuberías ABC, S.A. de C.V.\", \"Tuberías DEF, S.A.\", \"Tuberías GHI, S. de R.L. de C.V.\")\n",
    "current_Supplier_ids = []\n",
    "current_supplier_profile = ((\"regular\", \"low\", \"high\", \"high\"), (\"regular\", \"high\", \"low\", \"regular\"), (\"high\", \"high\", \"low\", \"low\"))\n",
    "\n",
    "for delivery_time in [\"low\", \"regular\", \"high\"]:\n",
    "\tfor quotation_time in [\"low\", \"regular\", \"high\"]:\n",
    "\t\tfor price in [\"low\", \"regular\", \"high\"]:\n",
    "\t\t\tfor punctuality in [\"low\", \"regular\", \"high\"]:\n",
    "\t\t\t\tsupplier_number = len(env.suppliers) + 1\n",
    "\t\t\t\tsupplier_id = f\"1{str(supplier_number).zfill(7)}\"    # Supplier ID must be 8 character length string.\n",
    "\n",
    "\t\t\t\tif (delivery_time, quotation_time, price, punctuality) in current_supplier_profile:\n",
    "\t\t\t\t\tsupplier_index = current_supplier_profile.index((delivery_time, quotation_time, price, punctuality))\n",
    "\t\t\t\t\tsupplier_name = current_supplier_names[supplier_index]\n",
    "\t\t\t\t\tprint(f\"{supplier_name} has ID {supplier_id}.\")\n",
    "\t\t\t\t\tcurrent_Supplier_ids.append(supplier_id)\n",
    "\t\t\t\telse:\n",
    "\t\t\t\t\tsupplier_name = f\"Supplier {supplier_number}\"   # Generate a supplier name concatenating Supplier and supplier number.\n",
    "\n",
    "\t\t\t\tsupplier = simulation.Supplier(supplier_id, supplier_name, delivery_time, quotation_time, price, punctuality)\n",
    "\t\t\t\tenv.add_supplier(supplier)  # Add supplier to simulation environment."
   ]
  },
  {
   "cell_type": "code",
   "execution_count": null,
   "id": "3cc190be",
   "metadata": {},
   "outputs": [],
   "source": [
    "estrella = simulation.Supplier(\"10000082\", \"Súper Fantástico, S.A.S.\", \"low\", \"low\", \"low\", \"high\")\n",
    "env.add_supplier(estrella)"
   ]
  },
  {
   "cell_type": "markdown",
   "id": "9a375b51",
   "metadata": {},
   "source": [
    "## Generate current suppliers"
   ]
  },
  {
   "cell_type": "markdown",
   "id": "db7877e3",
   "metadata": {},
   "source": [
    "### Create project and ECNs\n",
    "Create two sample projects named *Alaska* and *Pandora*.\n",
    "It is important to define the milestone dates for these projectss. Required milestone dates are:\n",
    "* **Design freeze (DF):** Restrict not important changes to the design of the project. Most of ECNs (Engineering Change Notification) are released near this date.\n",
    "* **MCS:** I do not remember what does it stands for in this moment. In this stage a prototype containing the exact sourced material for the project to review to review their feasibility and adjust parameters in case it is needed. In this stage, part numbers do not need to be PPAP approved and built units cannot be sold.\n",
    "* **Pilot:** In this stage a small but significant quantity of units of the project are produced. It aims to test the whole manufacturing process. All the material needs to be PPAP approved in this stage. Pilot units may be sold under Marketing approval.\n",
    "* **Start of production (SOP):** Project implementation. Suppliers need to be ready at least six weeks before this date, however, *supplier readiness* may be longer depending on material lead time.\n",
    "\n",
    "A quantity of 300 ECNs is created for this initial data frame. Each ECN contains a variable quantity of part numbers of different kinds. The quantity and kinds are randomly generated taking into account real statistics.\n",
    "\n",
    "The simulated part numbers are copper tubes. From a real data set it was determined six kinds three complexity degrees (low, medium, regular). Both parameters affect prices and quantities."
   ]
  },
  {
   "cell_type": "code",
   "execution_count": null,
   "id": "7e01edcb",
   "metadata": {},
   "outputs": [],
   "source": [
    "alaska = simulation.Project(\n",
    "    name=\"Alaska\",\n",
    "    df_date=date(2024,5,10), \n",
    "    mcs_date=date(2024,7,15),\n",
    "    pilot_date=date(2024,9,1), \n",
    "    sop_date=date(2025,1,27)\n",
    ")   # Create project Alaska.\n",
    "\n",
    "pandora = simulation.Project(\n",
    "    name=\"Pandora\",\n",
    "    df_date=date(2025,8,19),\n",
    "    mcs_date=date(2026,2,5),\n",
    "    pilot_date=date(2026,4,23),\n",
    "    sop_date=date(2026,6,26)\n",
    ")   # Create project Pandora.\n",
    "\n",
    "env.gen_ecns(alaska, 100)   # Create 100 ECNs for Alaska project.\n",
    "env.gen_ecns(pandora, 200)  # Create 200 ECNs for Pandora project."
   ]
  },
  {
   "cell_type": "markdown",
   "id": "13fa4837",
   "metadata": {},
   "source": [
    "### Generating data frame\n",
    "Generate the data frame is divided in two steps:\n",
    "1. Quoting all the ECNs with all the suppliers. The simulation uses real statistical data to generate random dates and prices.\n",
    "2. Implementing each ECN with random chosen suppliers. A uniform distribution is used to randomly chose the suppliers."
   ]
  },
  {
   "cell_type": "code",
   "execution_count": null,
   "id": "a41714e2",
   "metadata": {},
   "outputs": [],
   "source": [
    "env.quote_all_ecns()\n",
    "env.gen_initial_item_master_df()\n",
    "\n",
    "env.item_master # Display all the dataframe, with no filters."
   ]
  },
  {
   "cell_type": "markdown",
   "id": "7833609b",
   "metadata": {},
   "source": [
    "## Generate data frame for fuzzy model\n",
    "In this section a new project and data frame containing 10 copper piping ECNs is generated to apply it with the "
   ]
  },
  {
   "cell_type": "code",
   "execution_count": null,
   "id": "c51d7540",
   "metadata": {},
   "outputs": [],
   "source": [
    "juneau = simulation.Project(\n",
    "    name=\"Juneau\",\n",
    "    df_date=date(2024,4,9),\n",
    "    mcs_date=date(2024,6,17),\n",
    "    pilot_date=date(2024,8,1),\n",
    "    sop_date=date(2024,11,25)\n",
    ")\n",
    "\n",
    "env.gen_ecns(juneau, 10)"
   ]
  },
  {
   "cell_type": "code",
   "execution_count": null,
   "id": "fd01d00f",
   "metadata": {},
   "outputs": [],
   "source": [
    "for supplier in env.suppliers:\n",
    "    if supplier.id not in current_Supplier_ids:\n",
    "        env.deactivate_supplier(supplier)\n",
    "\n",
    "env.activate_supplier(estrella)\n",
    "\n",
    "for ecn in juneau.ecns:\n",
    "    env.quote_ecn_all_suppliers(ecn)\n",
    "\n",
    "env.item_master[env.item_master[\"Project\"] == \"Juneau\"]"
   ]
  },
  {
   "cell_type": "markdown",
   "id": "622deb80",
   "metadata": {},
   "source": [
    "## Define parameters for fuzzy variables"
   ]
  },
  {
   "cell_type": "code",
   "execution_count": null,
   "id": "5d609e69",
   "metadata": {},
   "outputs": [],
   "source": [
    "def get_µσ_punctuality(profile: str):\n",
    "    punctuality_list = []\n",
    "\n",
    "    for supplier_name in env.item_master[(env.item_master[\"Awarded\"] == True) & (env.item_master[\"Punctuality profile\"] == profile) & (env.item_master[\"OTD\"] == True)][\"Supplier name\"].unique():\n",
    "        punctuality = len(env.item_master[(env.item_master[\"Supplier name\"] == supplier_name) & (env.item_master[\"Awarded\"] == True) & (env.item_master[\"OTD\"] == True)]) / len(env.item_master[(env.item_master[\"Supplier name\"] == supplier_name) & (env.item_master[\"Awarded\"] == True)])\n",
    "\n",
    "        punctuality_list.append(punctuality)\n",
    "\n",
    "    return (mean(punctuality_list), stdev(punctuality_list))"
   ]
  },
  {
   "cell_type": "code",
   "execution_count": null,
   "id": "8cae75f9",
   "metadata": {},
   "outputs": [],
   "source": [
    "max_delivery_time = round(env.item_master[(env.item_master[\"Awarded\"] == True)][\"Delivery time\"].max())\n",
    "max_quotation_time = round(env.item_master[(env.item_master[\"Awarded\"] == True)][\"Quotation time\"].max())\n",
    "µ_business_total = float(env.item_master[(env.item_master[\"Project\"] == \"Juneau\")][[\"Supplier name\", \"FY Spend\"]].groupby(\"Supplier name\").sum().mean())\n",
    "σ_business_total = float(env.item_master[(env.item_master[\"Project\"] == \"Juneau\")][[\"Supplier name\", \"FY Spend\"]].groupby(\"Supplier name\").sum().std())\n",
    "min_business_total = µ_business_total - 3*σ_business_total\n",
    "max_business_total = µ_business_total + 3*σ_business_total\n",
    "\n",
    "var_delivery_time = np.arange(0, max_delivery_time + 1, 1)\n",
    "var_quotation_time = np.arange(0, max_quotation_time + 1, 1)\n",
    "var_price = np.arange(floor(µ_business_total - 3*σ_business_total), ceil(µ_business_total + 3*σ_business_total), 0.01)\n",
    "var_punctuality = np.arange(0, 2, 0.01)\n",
    "var_supplier = np.arange(0, 11, 0.01)"
   ]
  },
  {
   "cell_type": "code",
   "execution_count": null,
   "id": "3fd3f718",
   "metadata": {},
   "outputs": [],
   "source": [
    "µ_delivery_time_low = round(env.item_master[(env.item_master[\"Awarded\"] == True) & (env.item_master[\"Delivery profile\"] == \"low\")][\"Delivery time\"].mean())\n",
    "σ_delivery_time_low = round(env.item_master[(env.item_master[\"Awarded\"] == True) & (env.item_master[\"Delivery profile\"] == \"low\")][\"Delivery time\"].std())\n",
    "µ_delivery_time_medium = round(env.item_master[(env.item_master[\"Awarded\"] == True) & (env.item_master[\"Delivery profile\"] == \"regular\")][\"Delivery time\"].mean())\n",
    "σ_delivery_time_medium = round(env.item_master[(env.item_master[\"Awarded\"] == True) & (env.item_master[\"Delivery profile\"] == \"regular\")][\"Delivery time\"].std())\n",
    "µ_delivery_time_high = round(env.item_master[(env.item_master[\"Awarded\"] == True) & (env.item_master[\"Delivery profile\"] == \"high\")][\"Delivery time\"].mean())\n",
    "σ_delivery_time_high = round(env.item_master[(env.item_master[\"Awarded\"] == True) & (env.item_master[\"Delivery profile\"] == \"high\")][\"Delivery time\"].std())\n",
    "\n",
    "µ_quotation_time_low = round(env.item_master[(env.item_master[\"Awarded\"] == True) & (env.item_master[\"Quotation profile\"] == \"low\")][\"Quotation time\"].mean())\n",
    "σ_quotation_time_low = round(env.item_master[(env.item_master[\"Awarded\"] == True) & (env.item_master[\"Quotation profile\"] == \"low\")][\"Quotation time\"].std())\n",
    "µ_quotation_time_medium = round(env.item_master[(env.item_master[\"Awarded\"] == True) & (env.item_master[\"Quotation profile\"] == \"regular\")][\"Quotation time\"].mean())\n",
    "σ_quotation_time_medium = round(env.item_master[(env.item_master[\"Awarded\"] == True) & (env.item_master[\"Quotation profile\"] == \"regular\")][\"Quotation time\"].std())\n",
    "µ_quotation_time_high = round(env.item_master[(env.item_master[\"Awarded\"] == True) & (env.item_master[\"Quotation profile\"] == \"high\")][\"Quotation time\"].mean())\n",
    "σ_quotation_time_high = round(env.item_master[(env.item_master[\"Awarded\"] == True) & (env.item_master[\"Quotation profile\"] == \"high\")][\"Quotation time\"].std())\n",
    "\n",
    "µ_punctuality_low, σ_punctuality_low = get_μσ_punctuality(\"low\")\n",
    "µ_punctuality_medium, σ_punctuality_medium = get_μσ_punctuality(\"regular\")\n",
    "µ_punctuality_high, σ_punctuality_high = get_μσ_punctuality(\"high\")"
   ]
  },
  {
   "cell_type": "code",
   "execution_count": null,
   "id": "9d049a45",
   "metadata": {},
   "outputs": [],
   "source": [
    "delivery_time_low = fuzzy.trapmf(var_delivery_time, [0, 0, µ_delivery_time_low, µ_delivery_time_low + σ_delivery_time_low])\n",
    "delivery_time_medium = fuzzy.trimf(var_delivery_time, [µ_delivery_time_medium - σ_delivery_time_medium, µ_delivery_time_medium, µ_delivery_time_medium + σ_delivery_time_medium])\n",
    "delivery_time_high = fuzzy.trapmf(var_delivery_time, [µ_delivery_time_high - σ_delivery_time_high, µ_delivery_time_high, max_delivery_time, max_delivery_time])\n",
    "\n",
    "quotation_time_low  = fuzzy.trapmf(var_quotation_time, [0, 0, µ_quotation_time_low, µ_quotation_time_low + σ_quotation_time_low])\n",
    "quotation_time_medium  = fuzzy.trimf(var_quotation_time, [µ_quotation_time_medium - σ_quotation_time_medium, µ_quotation_time_medium, µ_quotation_time_medium + σ_quotation_time_medium])\n",
    "quotation_time_high = fuzzy.trapmf(var_quotation_time, [µ_quotation_time_high - σ_quotation_time_high, µ_quotation_time_high, max_quotation_time, max_quotation_time])\n",
    "\n",
    "punctuality_low = fuzzy.trapmf(var_punctuality, [0, 0, round(µ_punctuality_low, 2), round(µ_punctuality_low + σ_punctuality_low, 2)])\n",
    "punctuality_medium = fuzzy.trimf(var_punctuality, [round(µ_punctuality_medium - σ_punctuality_medium, 2), round(µ_punctuality_medium, 2), round(µ_punctuality_medium + σ_punctuality_medium, 2)])\n",
    "punctuality_high = fuzzy.trapmf(var_punctuality, [round(µ_punctuality_high - σ_punctuality_high, 2), round(µ_punctuality_high, 2), 1, 1])\n",
    "\n",
    "price_low = fuzzy.trapmf(var_price, [floor(min_business_total), floor(min_business_total), round(µ_business_total - σ_business_total), round(μ_business_total)])\n",
    "price_medium = fuzzy.trimf(var_price, [round(μ_business_total - σ_business_total), round(μ_business_total), round(μ_business_total + σ_business_total)])\n",
    "price_high = fuzzy.trapmf(var_price, [round(μ_business_total), round(μ_business_total + σ_business_total), ceil(max_business_total), ceil(max_business_total)])\n",
    "\n",
    "supplier_low = fuzzy.trimf(var_supplier, [0, 2.5, 5])\n",
    "supplier_medium = fuzzy.trimf(var_supplier, [2.5, 5, 7.5])\n",
    "supplier_high = fuzzy.trimf(var_supplier, [5, 7.5, 10])"
   ]
  },
  {
   "cell_type": "code",
   "execution_count": null,
   "id": "8dedb372",
   "metadata": {},
   "outputs": [],
   "source": [
    "fig, (ax0, ax1, ax2, ax3, ax4) = plt.subplots(nrows=5, figsize=(8, 9))\n",
    "\n",
    "ax0.plot(var_delivery_time, delivery_time_low, \"b\", linewidth=1.5, label=\"Good\")\n",
    "ax0.plot(var_delivery_time, delivery_time_medium, \"g\", linewidth=1.5, label=\"Regular\")\n",
    "ax0.plot(var_delivery_time, delivery_time_high, \"r\", linewidth=1.5, label=\"Bad\")\n",
    "ax0.set_title(\"Delivery time\")\n",
    "ax0.legend()\n",
    "\n",
    "ax1.plot(var_quotation_time, quotation_time_low, \"b\", linewidth=1.5, label=\"Good\")\n",
    "ax1.plot(var_quotation_time, quotation_time_medium, \"g\", linewidth=1.5, label=\"Regular\")\n",
    "ax1.plot(var_quotation_time, quotation_time_high, \"r\", linewidth=1.5, label=\"Bad\")\n",
    "ax1.set_title(\"Quotation time\")\n",
    "ax1.legend()\n",
    "\n",
    "ax2.plot(var_punctuality, punctuality_low, \"b\", linewidth=1.5, label=\"Bad\")\n",
    "ax2.plot(var_punctuality, punctuality_medium, \"g\", linewidth=1.5, label=\"Regular\")\n",
    "ax2.plot(var_punctuality, punctuality_high, \"r\", linewidth=1.5, label=\"Good\")\n",
    "ax2.set_title(\"Punctuality\")\n",
    "ax2.legend()\n",
    "\n",
    "ax3.plot(var_price, price_low, \"b\", linewidth=1.5, label=\"Low\")\n",
    "ax3.plot(var_price, price_medium, \"g\", linewidth=1.5, label=\"Regular\")\n",
    "ax3.plot(var_price, price_high, \"r\", linewidth=1.5, label=\"High\")\n",
    "ax3.set_title(\"Price\")\n",
    "ax3.legend()\n",
    "\n",
    "ax4.plot(var_supplier, supplier_low, \"b\", linewidth=1.5, label=\"Bad\")\n",
    "ax4.plot(var_supplier, supplier_medium, \"g\", linewidth=1.5, label=\"Regular\")\n",
    "ax4.plot(var_supplier, supplier_high, \"r\", linewidth=1.5, label=\"Good\")\n",
    "ax4.set_title(\"Supplier\")\n",
    "ax4.legend()\n",
    "\n",
    "for ax in [ax0, ax1, ax2, ax3, ax4]:\n",
    "    ax.spines[\"top\"].set_visible(False)\n",
    "    ax.spines[\"right\"].set_visible(False)\n",
    "    ax.get_xaxis().tick_bottom()\n",
    "    ax.get_yaxis().tick_left()\n",
    "\n",
    "plt.tight_layout()\n",
    "plt.show()"
   ]
  },
  {
   "cell_type": "code",
   "execution_count": null,
   "id": "ff3edcef",
   "metadata": {},
   "outputs": [],
   "source": [
    "evaluation_supplier_id = \"10000073\"\n",
    "\n",
    "crisp_delivery_time = env.item_master[(env.item_master[\"Supplier ID\"] == evaluation_supplier_id) & (env.item_master[\"Awarded\"] == True)][\"Delivery time\"].mean()\n",
    "crisp_quotation_time = env.item_master[(env.item_master[\"Supplier ID\"] == evaluation_supplier_id) & (env.item_master[\"Awarded\"] == True)][\"Quotation time\"].mean()\n",
    "crisp_price = env.item_master[(env.item_master[\"Project\"] == \"Juneau\") & (env.item_master[\"Supplier ID\"] == evaluation_supplier_id)][\"FY Spend\"].sum()\n",
    "crisp_punctuality = len(env.item_master[(env.item_master[\"Supplier ID\"] == evaluation_supplier_id) & (env.item_master[\"Awarded\"] == True) & (env.item_master[\"OTD\"] == True)]) / len(env.item_master[(env.item_master[\"Supplier ID\"] == evaluation_supplier_id) & (env.item_master[\"Awarded\"] == True)])\n",
    "\n",
    "# Assign membership degree\n",
    "\n",
    "price_level_low = fuzzy.interp_membership(var_price, price_low, crisp_price)\n",
    "price_level_medium = fuzzy.interp_membership(var_price, price_medium, crisp_price)\n",
    "price_level_high = fuzzy.interp_membership(var_price, price_high, crisp_price)\n",
    "\n",
    "punctuality_level_low = fuzzy.interp_membership(var_punctuality, punctuality_low, crisp_punctuality)\n",
    "punctuality_level_medium = fuzzy.interp_membership(var_punctuality, punctuality_medium, crisp_punctuality)\n",
    "punctuality_level_high = fuzzy.interp_membership(var_punctuality, punctuality_high, crisp_punctuality)\n",
    "\n",
    "delivery_time_level_low = fuzzy.interp_membership(var_delivery_time, delivery_time_low, crisp_delivery_time)\n",
    "delivery_time_level_medium = fuzzy.interp_membership(var_delivery_time, delivery_time_medium, crisp_delivery_time)\n",
    "delivery_time_level_high = fuzzy.interp_membership(var_delivery_time, delivery_time_high, crisp_delivery_time)\n",
    "\n",
    "quotation_time_level_low = fuzzy.interp_membership(var_quotation_time, quotation_time_low, crisp_quotation_time)\n",
    "quotation_time_level_medium = fuzzy.interp_membership(var_quotation_time, quotation_time_medium, crisp_quotation_time)\n",
    "quotation_time_level_high = fuzzy.interp_membership(var_quotation_time, quotation_time_high, crisp_quotation_time)\n",
    "\n",
    "# Rule application\n",
    "# Example code uses np.fmax for OR operator. I will use np.fmin for AND.\n",
    "rule_1 = np.fmin.reduce([price_level_low, punctuality_level_high, delivery_time_level_low, quotation_time_level_low])\n",
    "\n",
    "rule_2 = np.fmin.reduce([price_level_medium, punctuality_level_high, delivery_time_level_low, quotation_time_level_low])\n",
    "\n",
    "rule_3 = np.fmin.reduce([price_level_low, punctuality_level_medium, delivery_time_level_low, quotation_time_level_low])\n",
    "\n",
    "rule_4 = np.fmin.reduce([price_level_low, punctuality_level_high, delivery_time_level_medium, quotation_time_level_low])\n",
    "\n",
    "rule_5 = np.fmin.reduce([price_level_low, punctuality_level_high, delivery_time_level_low, quotation_time_level_medium])\n",
    "\n",
    "rule_6 = np.fmin.reduce([price_level_high, punctuality_level_low, delivery_time_level_high, quotation_time_level_high])\n",
    "\n",
    "rule_7 = np.fmin.reduce([price_level_medium, punctuality_level_low, delivery_time_level_high, quotation_time_level_high])\n",
    "\n",
    "rule_8 = np.fmin.reduce([price_level_high, punctuality_level_medium, delivery_time_level_high, quotation_time_level_high])\n",
    "\n",
    "rule_9 = np.fmin.reduce([price_level_high, punctuality_level_low, delivery_time_level_medium, quotation_time_level_high])\n",
    "\n",
    "rule_10 = np.fmin.reduce([price_level_high, punctuality_level_low, delivery_time_level_high, quotation_time_level_medium])\n",
    "\n",
    "rule_11 = 1 - np.fmax.reduce([rule_1, rule_2, rule_3, rule_4, rule_5, rule_6, rule_7, rule_8, rule_9, rule_10])\n",
    "\n",
    "supplier_activation_low = np.fmin(np.fmax.reduce([rule_3, rule_4, rule_5, rule_6, rule_10]), supplier_low)\n",
    "supplier_activation_medium = np.fmin(rule_11, supplier_medium)\n",
    "supplier_activation_high = np.fmin(np.fmax.reduce([rule_1, rule_2, rule_7, rule_8, rule_9]), supplier_high)\n",
    "\n",
    "supplier_0 = np.zeros_like(var_supplier)\n",
    "\n",
    "aggregated = np.fmax.reduce([supplier_activation_low, supplier_activation_medium, supplier_activation_high])\n",
    "\n",
    "\n",
    "# Defuzzification\n",
    "supplier_score = fuzzy.defuzz(var_supplier, aggregated, \"centroid\")\n",
    "supplier_activation = fuzzy.interp_membership(var_supplier, aggregated, supplier_score)"
   ]
  },
  {
   "cell_type": "code",
   "execution_count": null,
   "id": "4e1e7935",
   "metadata": {},
   "outputs": [],
   "source": [
    "fig, (ax5, ax6) = plt.subplots(nrows=2, figsize=(8, 9))\n",
    "\n",
    "ax5.fill_between(var_supplier, supplier_0, supplier_activation_low, facecolor=\"b\", alpha=0.7)\n",
    "ax5.plot(var_supplier, supplier_low, \"b\", linewidth=0.5, linestyle=\"--\")\n",
    "ax5.fill_between(var_supplier, supplier_0, supplier_activation_medium, facecolor=\"g\", alpha=0.7)\n",
    "ax5.plot(var_supplier, supplier_medium, \"g\", linewidth=0.5, linestyle=\"--\")\n",
    "ax5.fill_between(var_supplier, supplier_0, supplier_activation_high, facecolor=\"r\", alpha=0.7)\n",
    "ax5.plot(var_supplier, supplier_high, \"r\", linewidth=0.5, linestyle=\"--\")\n",
    "ax5.set_title(\"Output membership\")\n",
    "\n",
    "ax6.plot(var_supplier, supplier_low, \"b\", linewidth=0.5, linestyle=\"--\")\n",
    "ax6.plot(var_supplier, supplier_medium, \"g\", linewidth=0.5, linestyle=\"--\")\n",
    "ax6.plot(var_supplier, supplier_high, \"r\", linewidth=0.5, linestyle=\"--\")\n",
    "ax6.fill_between(var_supplier, supplier_0, aggregated, facecolor=\"Orange\", alpha=0.7)\n",
    "ax6.plot([supplier_score, supplier_score], [0, supplier_activation], \"k\", linewidth=1.5, alpha=0.9)\n",
    "ax6.set_title(\"Aggregated membership and supplier score (line)\")\n",
    "\n",
    "for ax in [ax5, ax6]:\n",
    "    ax.spines[\"top\"].set_visible(False)\n",
    "    ax.spines[\"right\"].set_visible(False)\n",
    "    ax.get_xaxis().tick_bottom()\n",
    "    ax.get_yaxis().tick_left()\n",
    "\n",
    "plt.tight_layout()\n",
    "plt.show()"
   ]
  },
  {
   "cell_type": "code",
   "execution_count": null,
   "id": "927a81e5",
   "metadata": {},
   "outputs": [],
   "source": [
    "supplier_score"
   ]
  },
  {
   "cell_type": "code",
   "execution_count": null,
   "id": "4be89ba6",
   "metadata": {},
   "outputs": [],
   "source": [
    "print(\"Rules:\")\n",
    "for i, rule in enumerate([rule_1, rule_2, rule_3, rule_4, rule_5, rule_6, rule_7, rule_8, rule_9, rule_10, rule_11]):\n",
    "    print(f\"Rule {i+1}: {rule:.3f}\")\n",
    "\n",
    "print(\"\\nSupplier activations:\")\n",
    "print(f\"Low: {supplier_activation_low.max():.3f}\")\n",
    "print(f\"Medium: {supplier_activation_medium.max():.3f}\")\n",
    "print(f\"High: {supplier_activation_high.max():.3f}\")"
   ]
  },
  {
   "cell_type": "code",
   "execution_count": null,
   "id": "5d7059fd",
   "metadata": {},
   "outputs": [],
   "source": [
    "testing_supplier = env.get_supplier(\"id\", \"10000073\")\n",
    "otd_sop = []\n",
    "\n",
    "for i in range(100):\n",
    "    for ecn in juneau.ecns:\n",
    "        env.implement_ecn(ecn, testing_supplier, overwrite=True)\n",
    "    \n",
    "    otd = len(env.item_master[(env.item_master[\"Project\"] == \"Juneau\") & (env.item_master[\"Supplier ID\"] == testing_supplier.id) & (env.item_master[\"Awarded\"] == True) & (env.item_master[\"SOP ready\"] == True)]) / len(env.item_master[(env.item_master[\"Project\"] == \"Juneau\") & (env.item_master[\"Supplier ID\"] == testing_supplier.id) & (env.item_master[\"Awarded\"] == True)])\n",
    "\n",
    "    otd_sop.append(otd)\n",
    "\n",
    "mean(otd_sop)"
   ]
  }
 ],
 "metadata": {
  "kernelspec": {
   "display_name": "Python 3",
   "language": "python",
   "name": "python3"
  },
  "language_info": {
   "codemirror_mode": {
    "name": "ipython",
    "version": 3
   },
   "file_extension": ".py",
   "mimetype": "text/x-python",
   "name": "python",
   "nbconvert_exporter": "python",
   "pygments_lexer": "ipython3",
   "version": "3.11.6"
  }
 },
 "nbformat": 4,
 "nbformat_minor": 5
}
