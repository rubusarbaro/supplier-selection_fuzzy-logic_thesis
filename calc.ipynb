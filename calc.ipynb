{
 "cells": [
  {
   "cell_type": "code",
   "execution_count": 1,
   "id": "831b3873",
   "metadata": {},
   "outputs": [],
   "source": [
    "import pandas as pd\n",
    "\n",
    "df = pd.read_excel(\"training_df.xlsx\")"
   ]
  },
  {
   "cell_type": "code",
   "execution_count": 54,
   "id": "8c72045d",
   "metadata": {},
   "outputs": [],
   "source": [
    "avg = df[(df[\"Awarded\"] == True)][\"Delivery time\"].mean()\n",
    "std = df[(df[\"Awarded\"] == True)][\"Delivery time\"].std()"
   ]
  },
  {
   "cell_type": "code",
   "execution_count": 66,
   "id": "ea59a2ea",
   "metadata": {},
   "outputs": [
    {
     "data": {
      "text/plain": [
       "np.float64(96.0)"
      ]
     },
     "execution_count": 66,
     "metadata": {},
     "output_type": "execute_result"
    }
   ],
   "source": [
    "df[(df[\"Awarded\"] == True)][\"Delivery time\"].max()"
   ]
  },
  {
   "cell_type": "code",
   "execution_count": 67,
   "id": "30a49cae",
   "metadata": {},
   "outputs": [],
   "source": [
    "spend_df = df[[\"Supplier name\", \"FY Spend\"]].groupby(\"Supplier name\").sum()[\"FY Spend\"]"
   ]
  },
  {
   "cell_type": "code",
   "execution_count": 68,
   "id": "9c6ca7bf",
   "metadata": {},
   "outputs": [
    {
     "data": {
      "text/plain": [
       "np.float64(29128315.16)"
      ]
     },
     "execution_count": 68,
     "metadata": {},
     "output_type": "execute_result"
    }
   ],
   "source": [
    "spend_df.max()"
   ]
  },
  {
   "cell_type": "code",
   "execution_count": 33,
   "id": "f2ee9d89",
   "metadata": {},
   "outputs": [
    {
     "data": {
      "text/plain": [
       "np.float64(34147933.0)"
      ]
     },
     "execution_count": 33,
     "metadata": {},
     "output_type": "execute_result"
    }
   ],
   "source": [
    "import numpy as np\n",
    "\n",
    "np.ceil(spend_df.mean() + 3*spend_df.std())"
   ]
  },
  {
   "cell_type": "code",
   "execution_count": 49,
   "id": "e0fc0e7f",
   "metadata": {},
   "outputs": [
    {
     "data": {
      "text/plain": [
       "np.float64(341480.0)"
      ]
     },
     "execution_count": 49,
     "metadata": {},
     "output_type": "execute_result"
    }
   ],
   "source": [
    "np.ceil((spend_df.mean() + 3*spend_df.std())/ 100)"
   ]
  }
 ],
 "metadata": {
  "kernelspec": {
   "display_name": "Python 3",
   "language": "python",
   "name": "python3"
  },
  "language_info": {
   "codemirror_mode": {
    "name": "ipython",
    "version": 3
   },
   "file_extension": ".py",
   "mimetype": "text/x-python",
   "name": "python",
   "nbconvert_exporter": "python",
   "pygments_lexer": "ipython3",
   "version": "3.11.6"
  }
 },
 "nbformat": 4,
 "nbformat_minor": 5
}
