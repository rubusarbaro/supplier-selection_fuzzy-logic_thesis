{
 "cells": [
  {
   "cell_type": "markdown",
   "id": "e25d7f47",
   "metadata": {},
   "source": [
    "## Global variables"
   ]
  },
  {
   "cell_type": "code",
   "execution_count": null,
   "id": "0c974d25",
   "metadata": {},
   "outputs": [],
   "source": [
    "suppliers = []\n",
    "rfqs = []"
   ]
  },
  {
   "cell_type": "markdown",
   "id": "2b0e035f",
   "metadata": {},
   "source": [
    "## Classes definition"
   ]
  },
  {
   "cell_type": "code",
   "execution_count": null,
   "id": "591efa92",
   "metadata": {},
   "outputs": [],
   "source": [
    "from typing import Any\n",
    "\n",
    "\n",
    "class Supplier:\n",
    "    def __init__(self):\n",
    "        self.µ_price_high_complexity = 0\n",
    "        self.σ_price_high_complexity = 0\n",
    "        self.µ_price_medium_complexity = 0\n",
    "        self.σ_price_medium_complexity = 0\n",
    "        self.µ_price_low_complexity = 0\n",
    "        self.σ_price_low_complexity = 0\n",
    "\n",
    "class Part_Number:\n",
    "    def __init__(self, pn: str, complexity: str):\n",
    "        self.pn = pn\n",
    "        self.complexity = complexity\n",
    "\n",
    "class RFQ:\n",
    "    def __init__(self):\n",
    "        pass"
   ]
  }
 ],
 "metadata": {
  "language_info": {
   "name": "python"
  }
 },
 "nbformat": 4,
 "nbformat_minor": 5
}
