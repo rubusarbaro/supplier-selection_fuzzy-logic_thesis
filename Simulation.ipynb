{
  "cells": [
    {
      "cell_type": "markdown",
      "id": "e25d7f47",
      "metadata": {
        "id": "e25d7f47"
      },
      "source": [
        "## Libraries (local machine)"
      ]
    },
    {
      "cell_type": "code",
      "execution_count": 1,
      "id": "f0c77c01",
      "metadata": {
        "colab": {
          "base_uri": "https://localhost:8080/"
        },
        "id": "f0c77c01",
        "outputId": "f6a29c7a-f92d-4533-df7f-26e60ebb6728"
      },
      "outputs": [
        {
          "data": {
            "text/plain": [
              "False"
            ]
          },
          "execution_count": 1,
          "metadata": {},
          "output_type": "execute_result"
        }
      ],
      "source": [
        "from dotenv import load_dotenv\n",
        "from os import getenv\n",
        "import numpy as np\n",
        "import pandas as pd\n",
        "\n",
        "load_dotenv()"
      ]
    },
    {
      "cell_type": "markdown",
      "id": "uwlkVRaxsA44",
      "metadata": {
        "id": "uwlkVRaxsA44"
      },
      "source": [
        "## Libraries (Google Colab)"
      ]
    },
    {
      "cell_type": "code",
      "execution_count": null,
      "id": "SlF7O3NHsAoW",
      "metadata": {
        "id": "SlF7O3NHsAoW"
      },
      "outputs": [],
      "source": [
        "from google.colab import userdata\n",
        "import numpy as np\n",
        "import pandas as pd\n",
        "\n",
        "def getenv(secretName: str, default_value):\n",
        "  try:\n",
        "    return userdata.get(secretName)\n",
        "  except:\n",
        "    return default_value"
      ]
    },
    {
      "cell_type": "markdown",
      "id": "2b0e035f",
      "metadata": {
        "id": "2b0e035f"
      },
      "source": [
        "## Classes definition"
      ]
    },
    {
      "cell_type": "code",
      "execution_count": null,
      "id": "591efa92",
      "metadata": {
        "id": "591efa92"
      },
      "outputs": [],
      "source": [
        "#from typing import Any, NewType\n",
        "\n",
        "class Part_Number:\n",
        "    def __init__(self, pn: str, complexity: str):\n",
        "        self.pn = pn\n",
        "        self.complexity = complexity\n",
        "\n",
        "    def __str__(self):\n",
        "        return self.pn\n",
        "\n",
        "class ECN:\n",
        "    def __init__(self, ecn_id: str, pn_list: list[Part_Number]):\n",
        "        self.ecn_id = ecn_id\n",
        "        self.items = pn_list\n",
        "        self.quotations = []\n",
        "\n",
        "    def __str__(self):\n",
        "        return self.ecn_id\n",
        "    \n",
        "class Quotation:\n",
        "    def __init__(self, ecn: ECN, supplier: object, price_list: dict[str, list[str|float|int]]):\n",
        "        self.ecn = ecn\n",
        "        self.supplier = supplier\n",
        "\n",
        "        self.ecn.quotations.append(self)\n",
        "\n",
        "        self.price_list = price_list\n",
        "\n",
        "    def __str__(self):\n",
        "        return str(self.price_list)\n",
        "\n",
        "\n",
        "class Supplier:\n",
        "    def __init__(self, id: str | int, name: str, price_profile: str = \"regular\", quotation_profile: str = \"regular\", sample_delivery_punctuality_profile: str = \"regular\"):\n",
        "        self.id = self.__check_id(id)\n",
        "        self.name = name\n",
        "        self.quotations = []\n",
        "\n",
        "        price_profile_map = { # This is a factor to multiply; average and standard deviation\n",
        "          \"low\": (0.85, 0.85),\n",
        "          \"regular\": (1, 1),\n",
        "          \"high\": (1.2, 1.1)\n",
        "        }\n",
        "\n",
        "        quotation_profile_map = { # This is a factor to multiply; average and standard deviation\n",
        "          \"low\": (28.975, 25.1133753461483),\n",
        "          \"regular\": (27.7241379310345, 21.5974276436511),\n",
        "          \"high\": (24.9444444444444, 10.258266234788)\n",
        "        }\n",
        "\n",
        "        punctuality_profile_map = { # Probability\n",
        "          \"low\": 0.19047619047619,\n",
        "          \"regular\": 0.473684210526316,\n",
        "          \"high\": 0.638888888888889\n",
        "        }\n",
        "\n",
        "        self.ETA_difference = {\n",
        "            \"punctual\": (0.888888888888889, 1.01273936708367),\n",
        "            \"unpunctual\": (4.24137931034483, 2.69463981708917)\n",
        "        }\n",
        "\n",
        "        µ_price_profile_factor, σ_price_profile_factor = price_profile_map[price_profile]\n",
        "\n",
        "        self.price_complexity_map = {\n",
        "            \"low\": (getenv(\"AVG_PRICE_HIGH_COMPLEXITY\") * µ_price_profile_factor, getenv(\"STDEV_PRICE_HIGH_COMPLEXITY\") * σ_price_profile_factor),\n",
        "            \"medium\": (getenv(\"AVG_PRICE_MEDIUM_COMPLEXITY\") * µ_price_profile_factor, getenv(\"STDEV_PRICE_MEDIUM_COMPLEXITY\") * σ_price_profile_factor),\n",
        "            \"high\": (getenv(\"AVG_PRICE_LOW_COMPLEXITY\") * µ_price_profile_factor, getenv(\"STDEV_PRICE_LOW_COMPLEXITY\") * σ_price_profile_factor),\n",
        "            \"minimum\": getenv(\"MINIMUM_PRICE\") * µ_price_profile_factor\n",
        "        }\n",
        "\n",
        "        self.µ_quotation_time = quotation_profile_map[quotation_profile]\n",
        "        self.σ_quotation_time = quotation_profile_map[quotation_profile]\n",
        "        \n",
        "        self.µ_delivery_time = 34.6206896551724\n",
        "        self.σ_delivery_time = 16.2802512871323\n",
        "\n",
        "        self.punctual_p = punctuality_profile_map[sample_delivery_punctuality_profile]\n",
        "\n",
        "    def __str__(self):\n",
        "        return self.name\n",
        "\n",
        "    def __check_id(self, id: str | int):\n",
        "        if len(str(id)) < 8 or len(str(id)) > 8:\n",
        "          raise Exception(\"Invalid supplier ID\")\n",
        "        else:\n",
        "          return str(id)\n",
        "        \n",
        "    def quote(self, ecn: ECN, delivery_time: int = 0):\n",
        "        for quotation in self.quotations:\n",
        "            if quotation.ecn.ecn_id == ecn.ecn_id:\n",
        "                raise Exception(f\"{self.name} already quoted {ecn.ecn_id}.\")\n",
        "            \n",
        "        price_list = {\n",
        "            \"ECN\": [],\n",
        "            \"Part number\": [],\n",
        "            \"Complexity\": [],\n",
        "            \"Supplier ID\": [],\n",
        "            \"Supplier name\": [],\n",
        "            \"Price\": [],\n",
        "            \"Lead time\": []\n",
        "        }\n",
        "        min_price = self.price_complexity_map[\"minimum\"]\n",
        "\n",
        "        for part_number in ecn.items:\n",
        "            complexity = part_number.complexity\n",
        "            µ, σ = self.price_complexity_map[complexity]\n",
        "            price = max(np.random.normal(µ, σ), min_price)\n",
        "            if delivery_time == 0:\n",
        "                lt = np.nan\n",
        "            elif delivery_time > 0:\n",
        "                lt = delivery_time\n",
        "            else:\n",
        "                raise Exception(\"Lead time cannot be less than 1 day.\")\n",
        "\n",
        "            price_list[\"ECN\"].append(ecn.ecn_id)\n",
        "            price_list[\"Part number\"].append(part_number.pn)\n",
        "            price_list[\"Complexity\"].append(complexity)\n",
        "            price_list[\"Supplier ID\"].append(self.id)\n",
        "            price_list[\"Supplier name\"].append(self.name)\n",
        "            price_list[\"Price\"].append(price)\n",
        "            price_list[\"Lead time\"].append(lt)\n",
        "\n",
        "        quotation = Quotation(ecn, self, price_list)\n",
        "        self.quotations.append(quotation)\n",
        "        return quotation"
      ]
    },
    {
      "cell_type": "code",
      "execution_count": null,
      "id": "rE26KmteyTiP",
      "metadata": {
        "id": "rE26KmteyTiP"
      },
      "outputs": [],
      "source": [
        "class Environment:\n",
        "  def __init__(self):\n",
        "    self.suppliers = []\n",
        "    self.ecns = []\n",
        "    self.part_kinds = {\n",
        "        \"A\": {\n",
        "            \"average\": float(getenv(\"AVG_A_PART_KIND\", 0)),\n",
        "            \"stdev\": float(getenv(\"STDEV_A_PART_KIND\", 1)),\n",
        "            \"complexity\": {\"low\": 0.6818181818182, \"medium\": 0.318181818181818, \"high\": 0},\n",
        "            \"parts\": []\n",
        "        },\n",
        "        \"B\": {\n",
        "            \"average\": float(getenv(\"AVG_B_PART_KIND\", 0)),\n",
        "            \"stdev\": float(getenv(\"STDEV_B_PART_KIND\", 1)),\n",
        "            \"complexity\": {\"low\": 1/3, \"medium\": 2/3, \"high\": 0},\n",
        "            \"parts\": []\n",
        "        },\n",
        "        \"C\": {\n",
        "            \"average\": float(getenv(\"AVG_C_PART_KIND\", 0)),\n",
        "            \"stdev\": float(getenv(\"STDEV_C_PART_KIND\", 1)),\n",
        "            \"complexity\": {\"low\": 1, \"medium\": 0, \"high\": 0},\n",
        "            \"parts\": []\n",
        "        },\n",
        "        \"D\": {\n",
        "            \"average\": float(getenv(\"AVG_D_PART_KIND\", 0)),\n",
        "            \"stdev\": float(getenv(\"STDEV_D_PART_KIND\", 1)),\n",
        "            \"complexity\": {\"low\": 0.090909090909090909, \"medium\": 0.727272727272727, \"high\": 0.181818181818182},\n",
        "            \"parts\": []\n",
        "        },\n",
        "        \"E\": {\n",
        "            \"average\": float(getenv(\"AVG_E_PART_KIND\", 0)),\n",
        "            \"stdev\": float(getenv(\"STDEV_E_PART_KIND\", 1)),\n",
        "            \"complexity\": {\"low\": 0, \"medium\": 0, \"high\": 1},\n",
        "            \"parts\": []\n",
        "        },\n",
        "        \"F\": {\n",
        "            \"average\": float(getenv(\"AVG_F_PART_KIND\", 0)),\n",
        "            \"stdev\": float(getenv(\"STDEV_F_PART_KIND\", 1)),\n",
        "            \"complexity\": {\"low\": 0, \"medium\": 0, \"high\": 1},\n",
        "            \"parts\": []\n",
        "        },\n",
        "        \"G\": {\n",
        "            \"average\": float(getenv(\"AVG_G_PART_KIND\", 0)),\n",
        "            \"stdev\": float(getenv(\"STDEV_G_PART_KIND\", 1)),\n",
        "            \"complexity\": {\"low\": 0, \"medium\": 0, \"high\": 1},\n",
        "            \"parts\": []\n",
        "        }\n",
        "    }\n",
        "\n",
        "  def add_supplier(self, supplier: Supplier):\n",
        "    self.suppliers.append(supplier)\n",
        "\n",
        "  def gen_ecn(self, qty: int):\n",
        "    for i in range(qty):\n",
        "      ecn_part_numbers = []\n",
        "\n",
        "      while len(ecn_part_numbers) == 0:\n",
        "        for key in self.part_kinds.keys():\n",
        "          kind_complexity_keys = list(self.part_kinds[key][\"complexity\"].keys())\n",
        "          kind_complexity_probabilities = list(self.part_kinds[key][\"complexity\"].values())\n",
        "\n",
        "          for j in range(max(int(np.random.normal(self.part_kinds[key][\"average\"], self.part_kinds[key][\"stdev\"])), 0)):\n",
        "            category_part_number = len(self.part_kinds[key][\"parts\"]) + 1\n",
        "            complexity = np.random.choice(kind_complexity_keys, p=kind_complexity_probabilities)\n",
        "\n",
        "            part_number = Part_Number(pn=f\"A0{key}{str(category_part_number).zfill(6)}\", complexity=complexity)\n",
        "\n",
        "            self.part_kinds[key][\"parts\"].append(part_number)\n",
        "            ecn_part_numbers.append(part_number)\n",
        "\n",
        "      ecn_number = len(self.ecns) + 1\n",
        "      self.ecns.append(ECN(ecn_id=f\"ECN{str(ecn_number).zfill(7)}\", pn_list=ecn_part_numbers))\n",
        "\n",
        "  def gen_initial_df(self, ecn_qty: int):\n",
        "    self.gen_ecn(ecn_qty)\n",
        "\n",
        "    df = pd.DataFrame(data=None, columns=[\"ECN\", \"Part number\", \"Complexity\", \"Supplier ID\", \"Supplier name\", \"Price\", \"Lead time\"])\n",
        "\n",
        "    for ecn in self.ecns:\n",
        "      for supplier in self.suppliers:\n",
        "        quotation_df = pd.DataFrame(supplier.quote(ecn))\n",
        "        pd.concat([df, quotation_df])\n",
        "\n",
        "    return df"
      ]
    },
    {
      "cell_type": "code",
      "execution_count": null,
      "id": "mqoBp4Y52rHS",
      "metadata": {
        "id": "mqoBp4Y52rHS"
      },
      "outputs": [],
      "source": [
        "env = Environment()\n",
        "env.gen_ecn(10)\n",
        "\n",
        "for ecn in env.ecns:\n",
        "    for item in ecn.items:\n",
        "        print(item)"
      ]
    }
  ],
  "metadata": {
    "colab": {
      "provenance": []
    },
    "kernelspec": {
      "display_name": "Python 3",
      "language": "python",
      "name": "python3"
    },
    "language_info": {
      "codemirror_mode": {
        "name": "ipython",
        "version": 3
      },
      "file_extension": ".py",
      "mimetype": "text/x-python",
      "name": "python",
      "nbconvert_exporter": "python",
      "pygments_lexer": "ipython3",
      "version": "3.11.6"
    }
  },
  "nbformat": 4,
  "nbformat_minor": 5
}
