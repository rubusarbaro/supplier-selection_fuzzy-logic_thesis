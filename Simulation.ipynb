{
 "cells": [
  {
   "cell_type": "markdown",
   "id": "e25d7f47",
   "metadata": {},
   "source": [
    "## Libraries"
   ]
  },
  {
   "cell_type": "code",
   "execution_count": null,
   "id": "f0c77c01",
   "metadata": {},
   "outputs": [],
   "source": [
    "from dotenv import load_dotenv\n",
    "import pandas as pd"
   ]
  },
  {
   "cell_type": "markdown",
   "id": "204fa974",
   "metadata": {},
   "source": [
    "## Global variables"
   ]
  },
  {
   "cell_type": "code",
   "execution_count": null,
   "id": "0c974d25",
   "metadata": {},
   "outputs": [],
   "source": [
    "suppliers = []\n",
    "rfqs = []"
   ]
  },
  {
   "cell_type": "markdown",
   "id": "2b0e035f",
   "metadata": {},
   "source": [
    "## Classes definition"
   ]
  },
  {
   "cell_type": "code",
   "execution_count": null,
   "id": "591efa92",
   "metadata": {},
   "outputs": [],
   "source": [
    "#from typing import Any, NewType\n",
    "\n",
    "class Supplier:\n",
    "    def __init__(self, name: str, parameters: dict[str, list[float]]):\n",
    "        self.name = name\n",
    "\n",
    "        self.µ_price_high_complexity = \n",
    "        self.σ_price_high_complexity = \n",
    "        self.µ_price_medium_complexity = \n",
    "        self.σ_price_medium_complexity = \n",
    "        self.µ_price_low_complexity = \n",
    "        self.σ_price_low_complexity = \n",
    "\n",
    "        self.__update_attributes(parameters)\n",
    "\n",
    "    def __str__(self):\n",
    "        return self.name\n",
    "\n",
    "    def __update_attributes(self, parameters: dict[str, list[float]]):\n",
    "        for parameter, value in parameters.items():\n",
    "            if self.__getattribute__(parameter):\n",
    "                self.__setattr__(parameter, value)\n",
    "\n",
    "class Part_Number:\n",
    "    def __init__(self, pn: str, complexity: str):\n",
    "        self.pn = pn\n",
    "        self.complexity = complexity\n",
    "\n",
    "class ECN:\n",
    "    def __init__(self, ecn_id: str, pn_list: list[Part_Number]):\n",
    "        self.ecn_id = ecn_id\n",
    "        self.items = pn_list\n",
    "\n",
    "    def __str__(self):\n",
    "        return self.ecn_id\n",
    "\n",
    "class RFQ:\n",
    "    def __init__(self, ecn: ECN):\n",
    "        self.ecn = ecn"
   ]
  },
  {
   "cell_type": "code",
   "execution_count": null,
   "id": "511a4903",
   "metadata": {},
   "outputs": [],
   "source": [
    "def gen_ecn(qty: int):\n",
    "    pass"
   ]
  },
  {
   "cell_type": "markdown",
   "id": "1cc09139",
   "metadata": {},
   "source": [
    "## ECN definition"
   ]
  },
  {
   "cell_type": "code",
   "execution_count": 19,
   "id": "2a00d340",
   "metadata": {},
   "outputs": [],
   "source": [
    "## Part numbers\n",
    "# Header\n",
    "A0A000001 = Part_Number(pn=\"A0A000001\", complexity=\"high\")\n",
    "A0A000002 = Part_Number(pn=\"A0A000002\", complexity=\"high\")\n",
    "A0A000003 = Part_Number(pn=\"A0A000003\", complexity=\"high\")\n",
    "A0A000004 = Part_Number(pn=\"A0A000004\", complexity=\"high\")\n",
    "A0A000005 = Part_Number(pn=\"A0A000005\", complexity=\"high\")\n",
    "# Distributor\n",
    "A0B000001 = Part_Number(pn=\"A0B000001\", complexity=\"medium\")\n",
    "A0B000002 = Part_Number(pn=\"A0B000002\", complexity=\"medium\")\n",
    "A0B000003 = Part_Number(pn=\"A0B000003\", complexity=\"medium\")\n",
    "A0B000004 = Part_Number(pn=\"A0B000004\", complexity=\"medium\")\n",
    "A0B000005 = Part_Number(pn=\"A0B000005\", complexity=\"medium\")\n",
    "\n",
    "\n",
    "## ECN\n",
    "ECN0000001 = ECN(ecn_id=\"ECN0000001\", pn_list=[A0A000001, A0A000002, A0B000001, A0B000002])\n"
   ]
  },
  {
   "cell_type": "code",
   "execution_count": 3,
   "id": "7194867b",
   "metadata": {},
   "outputs": [
    {
     "data": {
      "text/html": [
       "<div>\n",
       "<style scoped>\n",
       "    .dataframe tbody tr th:only-of-type {\n",
       "        vertical-align: middle;\n",
       "    }\n",
       "\n",
       "    .dataframe tbody tr th {\n",
       "        vertical-align: top;\n",
       "    }\n",
       "\n",
       "    .dataframe thead th {\n",
       "        text-align: right;\n",
       "    }\n",
       "</style>\n",
       "<table border=\"1\" class=\"dataframe\">\n",
       "  <thead>\n",
       "    <tr style=\"text-align: right;\">\n",
       "      <th></th>\n",
       "      <th>ECN</th>\n",
       "      <th>Part number</th>\n",
       "      <th>Part complexity</th>\n",
       "      <th>Vendor name</th>\n",
       "      <th>Price</th>\n",
       "    </tr>\n",
       "  </thead>\n",
       "  <tbody>\n",
       "  </tbody>\n",
       "</table>\n",
       "</div>"
      ],
      "text/plain": [
       "Empty DataFrame\n",
       "Columns: [ECN, Part number, Part complexity, Vendor name, Price]\n",
       "Index: []"
      ]
     },
     "execution_count": 3,
     "metadata": {},
     "output_type": "execute_result"
    }
   ],
   "source": [
    "df = pd.DataFrame(None, columns=[\"ECN\", \"Part number\", \"Part complexity\", \"Vendor name\", \"Price\"])\n",
    "df"
   ]
  }
 ],
 "metadata": {
  "kernelspec": {
   "display_name": "Python 3",
   "language": "python",
   "name": "python3"
  },
  "language_info": {
   "codemirror_mode": {
    "name": "ipython",
    "version": 3
   },
   "file_extension": ".py",
   "mimetype": "text/x-python",
   "name": "python",
   "nbconvert_exporter": "python",
   "pygments_lexer": "ipython3",
   "version": "3.11.6"
  }
 },
 "nbformat": 4,
 "nbformat_minor": 5
}
