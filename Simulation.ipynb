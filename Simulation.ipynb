{
  "cells": [
    {
      "cell_type": "markdown",
      "id": "e25d7f47",
      "metadata": {
        "id": "e25d7f47"
      },
      "source": [
        "## Libraries (local machine)"
      ]
    },
    {
      "cell_type": "code",
      "execution_count": 5,
      "id": "f0c77c01",
      "metadata": {
        "colab": {
          "base_uri": "https://localhost:8080/"
        },
        "id": "f0c77c01",
        "outputId": "f6a29c7a-f92d-4533-df7f-26e60ebb6728"
      },
      "outputs": [
        {
          "output_type": "execute_result",
          "data": {
            "text/plain": [
              "False"
            ]
          },
          "metadata": {},
          "execution_count": 5
        }
      ],
      "source": [
        "from dotenv import load_dotenv\n",
        "from os import getenv\n",
        "import numpy as np\n",
        "import pandas as pd\n",
        "\n",
        "load_dotenv()"
      ]
    },
    {
      "cell_type": "markdown",
      "source": [
        "## Libraries (Google Colab)"
      ],
      "metadata": {
        "id": "uwlkVRaxsA44"
      },
      "id": "uwlkVRaxsA44"
    },
    {
      "cell_type": "code",
      "source": [
        "from google.colab import userdata\n",
        "import numpy as np\n",
        "import pandas as pd\n",
        "\n",
        "def getenv(secretName: str, default_value):\n",
        "  try:\n",
        "    return userdata.get(secretName)\n",
        "  except:\n",
        "    return default_value"
      ],
      "metadata": {
        "id": "SlF7O3NHsAoW"
      },
      "id": "SlF7O3NHsAoW",
      "execution_count": 1,
      "outputs": []
    },
    {
      "cell_type": "markdown",
      "id": "204fa974",
      "metadata": {
        "id": "204fa974"
      },
      "source": [
        "## Global variables"
      ]
    },
    {
      "cell_type": "code",
      "execution_count": 2,
      "id": "0c974d25",
      "metadata": {
        "id": "0c974d25"
      },
      "outputs": [],
      "source": [
        "suppliers = []\n",
        "rfqs = []\n",
        "ecns = []\n",
        "\n",
        "part_kinds = {\n",
        "        \"A\": {\n",
        "            \"average\": float(getenv(\"AVG_A_PART_KIND\", 0)),\n",
        "            \"stdev\": float(getenv(\"STDEV_A_PART_KIND\", 1)),\n",
        "            \"parts\": []\n",
        "        },\n",
        "        \"B\": {\n",
        "            \"average\": float(getenv(\"AVG_B_PART_KIND\", 0)),\n",
        "            \"stdev\": float(getenv(\"STDEV_B_PART_KIND\", 1)),\n",
        "            \"parts\": []\n",
        "        },\n",
        "        \"C\": {\n",
        "            \"average\": float(getenv(\"AVG_C_PART_KIND\", 0)),\n",
        "            \"stdev\": float(getenv(\"STDEV_C_PART_KIND\", 1)),\n",
        "            \"parts\": []\n",
        "        },\n",
        "        \"D\": {\n",
        "            \"average\": float(getenv(\"AVG_D_PART_KIND\", 0)),\n",
        "            \"stdev\": float(getenv(\"STDEV_D_PART_KIND\", 1)),\n",
        "            \"parts\": []\n",
        "        },\n",
        "        \"E\": {\n",
        "            \"average\": float(getenv(\"AVG_E_PART_KIND\", 0)),\n",
        "            \"stdev\": float(getenv(\"STDEV_E_PART_KIND\", 1)),\n",
        "            \"parts\": []\n",
        "        },\n",
        "        \"F\": {\n",
        "            \"average\": float(getenv(\"AVG_F_PART_KIND\", 0)),\n",
        "            \"stdev\": float(getenv(\"STDEV_F_PART_KIND\", 1)),\n",
        "            \"parts\": []\n",
        "        },\n",
        "        \"G\": {\n",
        "            \"average\": float(getenv(\"AVG_G_PART_KIND\", 0)),\n",
        "            \"stdev\": float(getenv(\"STDEV_G_PART_KIND\", 1)),\n",
        "            \"parts\": []\n",
        "        }\n",
        "    }"
      ]
    },
    {
      "cell_type": "markdown",
      "id": "2b0e035f",
      "metadata": {
        "id": "2b0e035f"
      },
      "source": [
        "## Classes definition"
      ]
    },
    {
      "cell_type": "code",
      "execution_count": 3,
      "id": "591efa92",
      "metadata": {
        "id": "591efa92"
      },
      "outputs": [],
      "source": [
        "#from typing import Any, NewType\n",
        "\n",
        "class Supplier:\n",
        "    def __init__(self, name: str, parameters: dict[str, list[float]]):\n",
        "        self.name = name\n",
        "\n",
        "        self.µ_price_high_complexity = getenv(\"AVG_PRICE_LOW_COMPLEXITY\")\n",
        "        self.σ_price_high_complexity = getenv(\"STDEV_PRICE_LOW_COMPLEXITY\")\n",
        "        self.µ_price_medium_complexity = getenv(\"AVG_PRICE_MEDIUM_COMPLEXITY\")\n",
        "        self.σ_price_medium_complexity = getenv(\"STDEV_PRICE_MEDIUM_COMPLEXITY\")\n",
        "        self.µ_price_low_complexity = getenv(\"AVG_PRICE_HIGH_COMPLEXITY\")\n",
        "        self.σ_price_low_complexity = getenv(\"STDEV_PRICE_HIGH_COMPLEXITY\")\n",
        "\n",
        "    def __str__(self):\n",
        "        return self.name\n",
        "\n",
        "class Part_Number:\n",
        "    def __init__(self, pn: str, complexity: str):\n",
        "        self.pn = pn\n",
        "        self.complexity = complexity\n",
        "\n",
        "class ECN:\n",
        "    def __init__(self, ecn_id: str, pn_list: list[Part_Number]):\n",
        "        self.ecn_id = ecn_id\n",
        "        self.items = pn_list\n",
        "\n",
        "    def __str__(self):\n",
        "        return self.ecn_id\n",
        "\n",
        "class RFQ:\n",
        "    def __init__(self, ecn: ECN):\n",
        "        self.ecn = ecn"
      ]
    },
    {
      "cell_type": "code",
      "execution_count": 9,
      "id": "511a4903",
      "metadata": {
        "id": "511a4903"
      },
      "outputs": [],
      "source": [
        "def gen_ecn(qty: int, kinds: dict[str, dict[str, float | list[Part_Number]]]):\n",
        "    for i in range(qty):\n",
        "        ecn_part_numbers = []\n",
        "\n",
        "        for key in kinds.keys():\n",
        "            for j in range(max(int(np.random.normal(kinds[key][\"average\"], kinds[key][\"stdev\"])), 0)):\n",
        "              category_part_numbers = len(kinds[key][\"parts\"])\n",
        "\n",
        "              part_number = Part_Number(pn=f\"A0{key}{str(category_part_numbers + 1).zfill(6)}\", complexity=\"low\")\n",
        "\n",
        "              kinds[key][\"parts\"].append(part_number)\n",
        "              ecn_part_numbers.append(part_number)"
      ]
    },
    {
      "cell_type": "markdown",
      "id": "1cc09139",
      "metadata": {
        "id": "1cc09139"
      },
      "source": [
        "## ECN definition"
      ]
    },
    {
      "cell_type": "code",
      "execution_count": null,
      "id": "2a00d340",
      "metadata": {
        "id": "2a00d340"
      },
      "outputs": [],
      "source": [
        "## Part numbers\n",
        "# Header\n",
        "A0A000001 = Part_Number(pn=\"A0A000001\", complexity=\"high\")\n",
        "A0A000002 = Part_Number(pn=\"A0A000002\", complexity=\"high\")\n",
        "A0A000003 = Part_Number(pn=\"A0A000003\", complexity=\"high\")\n",
        "A0A000004 = Part_Number(pn=\"A0A000004\", complexity=\"high\")\n",
        "A0A000005 = Part_Number(pn=\"A0A000005\", complexity=\"high\")\n",
        "# Distributor\n",
        "A0B000001 = Part_Number(pn=\"A0B000001\", complexity=\"medium\")\n",
        "A0B000002 = Part_Number(pn=\"A0B000002\", complexity=\"medium\")\n",
        "A0B000003 = Part_Number(pn=\"A0B000003\", complexity=\"medium\")\n",
        "A0B000004 = Part_Number(pn=\"A0B000004\", complexity=\"medium\")\n",
        "A0B000005 = Part_Number(pn=\"A0B000005\", complexity=\"medium\")\n",
        "\n",
        "\n",
        "## ECN\n",
        "ECN0000001 = ECN(ecn_id=\"ECN0000001\", pn_list=[A0A000001, A0A000002, A0B000001, A0B000002])\n"
      ]
    },
    {
      "cell_type": "code",
      "execution_count": null,
      "id": "7194867b",
      "metadata": {
        "id": "7194867b"
      },
      "outputs": [],
      "source": [
        "df = pd.DataFrame(None, columns=[\"ECN\", \"Part number\", \"Part complexity\", \"Vendor name\", \"Price\"])\n",
        "df"
      ]
    }
  ],
  "metadata": {
    "kernelspec": {
      "display_name": "Python 3",
      "language": "python",
      "name": "python3"
    },
    "language_info": {
      "codemirror_mode": {
        "name": "ipython",
        "version": 3
      },
      "file_extension": ".py",
      "mimetype": "text/x-python",
      "name": "python",
      "nbconvert_exporter": "python",
      "pygments_lexer": "ipython3",
      "version": "3.13.7"
    },
    "colab": {
      "provenance": []
    }
  },
  "nbformat": 4,
  "nbformat_minor": 5
}