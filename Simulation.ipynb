{
 "cells": [
  {
   "cell_type": "markdown",
   "id": "e25d7f47",
   "metadata": {},
   "source": [
    "## Libraries"
   ]
  },
  {
   "cell_type": "code",
   "execution_count": 12,
   "id": "f0c77c01",
   "metadata": {},
   "outputs": [
    {
     "data": {
      "text/plain": [
       "True"
      ]
     },
     "execution_count": 12,
     "metadata": {},
     "output_type": "execute_result"
    }
   ],
   "source": [
    "from dotenv import load_dotenv\n",
    "from os import getenv\n",
    "import numpy as np\n",
    "import pandas as pd\n",
    "\n",
    "load_dotenv()"
   ]
  },
  {
   "cell_type": "markdown",
   "id": "204fa974",
   "metadata": {},
   "source": [
    "## Global variables"
   ]
  },
  {
   "cell_type": "code",
   "execution_count": null,
   "id": "0c974d25",
   "metadata": {},
   "outputs": [],
   "source": [
    "suppliers = []\n",
    "rfqs = []\n",
    "ecns = []"
   ]
  },
  {
   "cell_type": "markdown",
   "id": "2b0e035f",
   "metadata": {},
   "source": [
    "## Classes definition"
   ]
  },
  {
   "cell_type": "code",
   "execution_count": null,
   "id": "591efa92",
   "metadata": {},
   "outputs": [],
   "source": [
    "#from typing import Any, NewType\n",
    "\n",
    "class Supplier:\n",
    "    def __init__(self, name: str, parameters: dict[str, list[float]]):\n",
    "        self.name = name\n",
    "\n",
    "        self.µ_price_high_complexity = getenv(\"AVG_PRICE_LOW_COMPLEXITY\")\n",
    "        self.σ_price_high_complexity = getenv(\"STDEV_PRICE_LOW_COMPLEXITY\")\n",
    "        self.µ_price_medium_complexity = getenv(\"AVG_PRICE_MEDIUM_COMPLEXITY\")\n",
    "        self.σ_price_medium_complexity = getenv(\"STDEV_PRICE_MEDIUM_COMPLEXITY\")\n",
    "        self.µ_price_low_complexity = getenv(\"AVG_PRICE_HIGH_COMPLEXITY\")\n",
    "        self.σ_price_low_complexity = getenv(\"STDEV_PRICE_HIGH_COMPLEXITY\")\n",
    "\n",
    "    def __str__(self):\n",
    "        return self.name\n",
    "\n",
    "class Part_Number:\n",
    "    def __init__(self, pn: str, complexity: str):\n",
    "        self.pn = pn\n",
    "        self.complexity = complexity\n",
    "\n",
    "class ECN:\n",
    "    def __init__(self, ecn_id: str, pn_list: list[Part_Number]):\n",
    "        self.ecn_id = ecn_id\n",
    "        self.items = pn_list\n",
    "\n",
    "    def __str__(self):\n",
    "        return self.ecn_id\n",
    "\n",
    "class RFQ:\n",
    "    def __init__(self, ecn: ECN):\n",
    "        self.ecn = ecn"
   ]
  },
  {
   "cell_type": "code",
   "execution_count": null,
   "id": "511a4903",
   "metadata": {},
   "outputs": [
    {
     "name": "stdout",
     "output_type": "stream",
     "text": [
      "A\n",
      "B\n",
      "C\n",
      "D\n",
      "E\n",
      "F\n",
      "G\n"
     ]
    }
   ],
   "source": [
    "def gen_ecn(qty: int):\n",
    "    part_kinds = {\n",
    "        \"A\": {\n",
    "            \"average\": float(getenv(\"AVG_A_PART_KIND\", 0)),\n",
    "            \"stdev\": float(getenv(\"STDEV_A_PART_KIND\", 1))\n",
    "        },\n",
    "        \"B\": {\n",
    "            \"average\": float(getenv(\"AVG_B_PART_KIND\", 0)),\n",
    "            \"stdev\": float(getenv(\"STDEV_B_PART_KIND\", 1))\n",
    "        },\n",
    "        \"C\": {\n",
    "            \"average\": float(getenv(\"AVG_C_PART_KIND\", 0)),\n",
    "            \"stdev\": float(getenv(\"STDEV_C_PART_KIND\", 1))\n",
    "        },\n",
    "        \"D\": {\n",
    "            \"average\": float(getenv(\"AVG_D_PART_KIND\", 0)),\n",
    "            \"stdev\": float(getenv(\"STDEV_D_PART_KIND\", 1))\n",
    "        },\n",
    "        \"E\": {\n",
    "            \"average\": float(getenv(\"AVG_E_PART_KIND\", 0)),\n",
    "            \"stdev\": float(getenv(\"STDEV_E_PART_KIND\", 1))\n",
    "        },\n",
    "        \"F\": {\n",
    "            \"average\": float(getenv(\"AVG_F_PART_KIND\", 0)),\n",
    "            \"stdev\": float(getenv(\"STDEV_F_PART_KIND\", 1))\n",
    "        },\n",
    "        \"G\": {\n",
    "            \"average\": float(getenv(\"AVG_G_PART_KIND\", 0)),\n",
    "            \"stdev\": float(getenv(\"STDEV_G_PART_KIND\", 1))\n",
    "        }\n",
    "    }\n",
    "\n",
    "    for key in part_kinds.keys():\n",
    "        if f\"{key}_kind_part_numbers\" not in globals():\n",
    "            globals()[f\"{key}_kind_part_numbers\"] = []\n",
    "\n",
    "    for i in range(qty):\n",
    "        ecn_part_numbers = []\n",
    "\n",
    "        for key in part_kinds.keys():\n",
    "            for j in range(round(np.random.normal(loc=part_kinds[key][\"average\"], scale=part_kinds[key][\"stdev\"]))):\n",
    "                pass"
   ]
  },
  {
   "cell_type": "markdown",
   "id": "1cc09139",
   "metadata": {},
   "source": [
    "## ECN definition"
   ]
  },
  {
   "cell_type": "code",
   "execution_count": null,
   "id": "2a00d340",
   "metadata": {},
   "outputs": [],
   "source": [
    "## Part numbers\n",
    "# Header\n",
    "A0A000001 = Part_Number(pn=\"A0A000001\", complexity=\"high\")\n",
    "A0A000002 = Part_Number(pn=\"A0A000002\", complexity=\"high\")\n",
    "A0A000003 = Part_Number(pn=\"A0A000003\", complexity=\"high\")\n",
    "A0A000004 = Part_Number(pn=\"A0A000004\", complexity=\"high\")\n",
    "A0A000005 = Part_Number(pn=\"A0A000005\", complexity=\"high\")\n",
    "# Distributor\n",
    "A0B000001 = Part_Number(pn=\"A0B000001\", complexity=\"medium\")\n",
    "A0B000002 = Part_Number(pn=\"A0B000002\", complexity=\"medium\")\n",
    "A0B000003 = Part_Number(pn=\"A0B000003\", complexity=\"medium\")\n",
    "A0B000004 = Part_Number(pn=\"A0B000004\", complexity=\"medium\")\n",
    "A0B000005 = Part_Number(pn=\"A0B000005\", complexity=\"medium\")\n",
    "\n",
    "\n",
    "## ECN\n",
    "ECN0000001 = ECN(ecn_id=\"ECN0000001\", pn_list=[A0A000001, A0A000002, A0B000001, A0B000002])\n"
   ]
  },
  {
   "cell_type": "code",
   "execution_count": null,
   "id": "7194867b",
   "metadata": {},
   "outputs": [],
   "source": [
    "df = pd.DataFrame(None, columns=[\"ECN\", \"Part number\", \"Part complexity\", \"Vendor name\", \"Price\"])\n",
    "df"
   ]
  }
 ],
 "metadata": {
  "kernelspec": {
   "display_name": "Python 3",
   "language": "python",
   "name": "python3"
  },
  "language_info": {
   "codemirror_mode": {
    "name": "ipython",
    "version": 3
   },
   "file_extension": ".py",
   "mimetype": "text/x-python",
   "name": "python",
   "nbconvert_exporter": "python",
   "pygments_lexer": "ipython3",
   "version": "3.13.7"
  }
 },
 "nbformat": 4,
 "nbformat_minor": 5
}
