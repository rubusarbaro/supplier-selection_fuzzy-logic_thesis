{
  "cells": [
    {
      "cell_type": "markdown",
      "id": "e25d7f47",
      "metadata": {
        "id": "e25d7f47"
      },
      "source": [
        "## Libraries (local machine)"
      ]
    },
    {
      "cell_type": "code",
      "execution_count": 6,
      "id": "f0c77c01",
      "metadata": {
        "colab": {
          "base_uri": "https://localhost:8080/"
        },
        "id": "f0c77c01",
        "outputId": "f6a29c7a-f92d-4533-df7f-26e60ebb6728"
      },
      "outputs": [
        {
          "data": {
            "text/plain": [
              "True"
            ]
          },
          "execution_count": 6,
          "metadata": {},
          "output_type": "execute_result"
        }
      ],
      "source": [
        "from dotenv import load_dotenv\n",
        "from os import getenv\n",
        "import numpy as np\n",
        "import pandas as pd\n",
        "\n",
        "load_dotenv()"
      ]
    },
    {
      "cell_type": "markdown",
      "id": "uwlkVRaxsA44",
      "metadata": {
        "id": "uwlkVRaxsA44"
      },
      "source": [
        "## Libraries (Google Colab)"
      ]
    },
    {
      "cell_type": "code",
      "execution_count": null,
      "id": "SlF7O3NHsAoW",
      "metadata": {
        "id": "SlF7O3NHsAoW"
      },
      "outputs": [],
      "source": [
        "from google.colab import userdata\n",
        "import numpy as np\n",
        "import pandas as pd\n",
        "\n",
        "def getenv(secretName: str, default_value):\n",
        "  try:\n",
        "    return userdata.get(secretName)\n",
        "  except:\n",
        "    return default_value"
      ]
    },
    {
      "cell_type": "markdown",
      "id": "2b0e035f",
      "metadata": {
        "id": "2b0e035f"
      },
      "source": [
        "## Classes definition"
      ]
    },
    {
      "cell_type": "code",
      "execution_count": null,
      "id": "591efa92",
      "metadata": {
        "id": "591efa92"
      },
      "outputs": [],
      "source": [
        "#from typing import Any, NewType\n",
        "\n",
        "class Part_Number:\n",
        "    def __init__(self, pn: str, complexity: str):\n",
        "        self.pn = pn\n",
        "        self.complexity = complexity\n",
        "\n",
        "    def __str__(self):\n",
        "        return self.pn\n",
        "\n",
        "class ECN:\n",
        "    def __init__(self, ecn_id: str, pn_list: list[Part_Number]):\n",
        "        self.ecn_id = ecn_id\n",
        "        self.items = pn_list\n",
        "        self.rfqs = []\n",
        "\n",
        "    def __str__(self):\n",
        "        return self.ecn_id\n",
        "    \n",
        "class Quote:\n",
        "    def __init__(self, ecn: ECN, supplier: object):\n",
        "        self.ecn = ecn\n",
        "        self.supplier = supplier\n",
        "\n",
        "        self.supplier.rfqs.append(self)\n",
        "        self.ecn.rfqs.append(self)\n",
        "\n",
        "class Supplier:\n",
        "    def __init__(self, id: str | int, name: str, price_profile: str = \"regular\", quotation_profile: str = \"regular\", sample_delivery_punctuality_profile: str = \"regular\"):\n",
        "        self.id = self.__check_id(id)\n",
        "        self.name = name\n",
        "        self.rfqs = []\n",
        "\n",
        "        price_profile_map = { # This is a factor to multiply; average and standard deviation\n",
        "          \"low\": (0.85, 0.85),\n",
        "          \"regular\": (1, 1),\n",
        "          \"high\": (1.2, 1.1)\n",
        "        }\n",
        "\n",
        "        quotation_profile_map = { # This is a factor to multiply; average and standard deviation\n",
        "          \"low\": (28.975, 25.1133753461483),\n",
        "          \"regular\": (27.7241379310345, 21.5974276436511),\n",
        "          \"high\": (24.9444444444444, 10.258266234788)\n",
        "        }\n",
        "\n",
        "        punctuality_profile_map = { # Probability\n",
        "          \"low\": 0.19047619047619,\n",
        "          \"regular\": 0.473684210526316,\n",
        "          \"high\": 0.638888888888889\n",
        "        }\n",
        "\n",
        "        self.ETA_difference = {\n",
        "            \"punctual\": (0.888888888888889, 1.01273936708367),\n",
        "            \"unpunctual\": (4.24137931034483, 2.69463981708917)\n",
        "        }\n",
        "\n",
        "        µ_price_profile_factor, σ_price_profile_factor = price_profile_map[price_profile]\n",
        "\n",
        "        self.µ_price_high_complexity = getenv(\"AVG_PRICE_LOW_COMPLEXITY\") * µ_price_profile_factor\n",
        "        self.σ_price_high_complexity = getenv(\"STDEV_PRICE_LOW_COMPLEXITY\") * σ_price_profile_factor\n",
        "        self.µ_price_medium_complexity = getenv(\"AVG_PRICE_MEDIUM_COMPLEXITY\") * µ_price_profile_factor\n",
        "        self.σ_price_medium_complexity = getenv(\"STDEV_PRICE_MEDIUM_COMPLEXITY\") * σ_price_profile_factor\n",
        "        self.µ_price_low_complexity = getenv(\"AVG_PRICE_HIGH_COMPLEXITY\") * µ_price_profile_factor\n",
        "        self.σ_price_low_complexity = getenv(\"STDEV_PRICE_HIGH_COMPLEXITY\") * σ_price_profile_factor\n",
        "        self.minimum_price = getenv(\"MINIMUM_PRICE\") * µ_price_profile_factor\n",
        "\n",
        "        self.µ_quotation_time = quotation_profile_map[quotation_profile]\n",
        "        self.σ_quotation_time = quotation_profile_map[quotation_profile]\n",
        "        \n",
        "        self.µ_delivery_time = 34.6206896551724\n",
        "        self.σ_delivery_time = 16.2802512871323\n",
        "\n",
        "        self.punctual_p = punctuality_profile_map[sample_delivery_punctuality_profile]\n",
        "\n",
        "    def __str__(self):\n",
        "        return self.name\n",
        "\n",
        "    def __check_id(self, id: str | int):\n",
        "        if len(str(id)) < 8 or len(str(id)) > 8:\n",
        "          raise Exception(\"Invalid supplier ID\")\n",
        "        else:\n",
        "          return str(id)\n",
        "        \n",
        "    def quote(self, ecn: ECN):\n",
        "        pass"
      ]
    },
    {
      "cell_type": "code",
      "execution_count": 8,
      "id": "rE26KmteyTiP",
      "metadata": {
        "id": "rE26KmteyTiP"
      },
      "outputs": [],
      "source": [
        "class Environment:\n",
        "  def __init__(self):\n",
        "    self.suppliers = []\n",
        "    self.ecns = []\n",
        "    self.part_kinds = {\n",
        "        \"A\": {\n",
        "            \"average\": float(getenv(\"AVG_A_PART_KIND\", 0)),\n",
        "            \"stdev\": float(getenv(\"STDEV_A_PART_KIND\", 1)),\n",
        "            \"complexity\": {\"low\": 0.6818181818182, \"medium\": 0.318181818181818, \"high\": 0},\n",
        "            \"parts\": []\n",
        "        },\n",
        "        \"B\": {\n",
        "            \"average\": float(getenv(\"AVG_B_PART_KIND\", 0)),\n",
        "            \"stdev\": float(getenv(\"STDEV_B_PART_KIND\", 1)),\n",
        "            \"complexity\": {\"low\": 1/3, \"medium\": 2/3, \"high\": 0},\n",
        "            \"parts\": []\n",
        "        },\n",
        "        \"C\": {\n",
        "            \"average\": float(getenv(\"AVG_C_PART_KIND\", 0)),\n",
        "            \"stdev\": float(getenv(\"STDEV_C_PART_KIND\", 1)),\n",
        "            \"complexity\": {\"low\": 1, \"medium\": 0, \"high\": 0},\n",
        "            \"parts\": []\n",
        "        },\n",
        "        \"D\": {\n",
        "            \"average\": float(getenv(\"AVG_D_PART_KIND\", 0)),\n",
        "            \"stdev\": float(getenv(\"STDEV_D_PART_KIND\", 1)),\n",
        "            \"complexity\": {\"low\": 0.090909090909090909, \"medium\": 0.727272727272727, \"high\": 0.181818181818182},\n",
        "            \"parts\": []\n",
        "        },\n",
        "        \"E\": {\n",
        "            \"average\": float(getenv(\"AVG_E_PART_KIND\", 0)),\n",
        "            \"stdev\": float(getenv(\"STDEV_E_PART_KIND\", 1)),\n",
        "            \"complexity\": {\"low\": 0, \"medium\": 0, \"high\": 1},\n",
        "            \"parts\": []\n",
        "        },\n",
        "        \"F\": {\n",
        "            \"average\": float(getenv(\"AVG_F_PART_KIND\", 0)),\n",
        "            \"stdev\": float(getenv(\"STDEV_F_PART_KIND\", 1)),\n",
        "            \"complexity\": {\"low\": 0, \"medium\": 0, \"high\": 1},\n",
        "            \"parts\": []\n",
        "        },\n",
        "        \"G\": {\n",
        "            \"average\": float(getenv(\"AVG_G_PART_KIND\", 0)),\n",
        "            \"stdev\": float(getenv(\"STDEV_G_PART_KIND\", 1)),\n",
        "            \"complexity\": {\"low\": 0, \"medium\": 0, \"high\": 1},\n",
        "            \"parts\": []\n",
        "        }\n",
        "    }\n",
        "\n",
        "  def add_supplier(self, supplier: Supplier):\n",
        "    self.suppliers.append(supplier)\n",
        "\n",
        "  def gen_ecn(self, qty: int):\n",
        "    for i in range(qty):\n",
        "      ecn_part_numbers = []\n",
        "\n",
        "      while len(ecn_part_numbers) == 0:\n",
        "        for key in self.part_kinds.keys():\n",
        "          kind_complexity_keys = list(self.part_kinds[key][\"complexity\"].keys())\n",
        "          kind_complexity_probabilities = list(self.part_kinds[key][\"complexity\"].values())\n",
        "\n",
        "          for j in range(max(int(np.random.normal(self.part_kinds[key][\"average\"], self.part_kinds[key][\"stdev\"])), 0)):\n",
        "            category_part_number = len(self.part_kinds[key][\"parts\"]) + 1\n",
        "            complexity = np.random.choice(kind_complexity_keys, p=kind_complexity_probabilities)\n",
        "\n",
        "            part_number = Part_Number(pn=f\"A0{key}{str(category_part_number).zfill(6)}\", complexity=complexity)\n",
        "\n",
        "            self.part_kinds[key][\"parts\"].append(part_number)\n",
        "            ecn_part_numbers.append(part_number)\n",
        "\n",
        "      ecn_number = len(self.ecns) + 1\n",
        "      self.ecns.append(ECN(ecn_id=f\"ECN{str(ecn_number).zfill(7)}\", pn_list=ecn_part_numbers))\n",
        "\n",
        "  def gen_initial_df(self):\n",
        "    pass"
      ]
    },
    {
      "cell_type": "code",
      "execution_count": null,
      "id": "mqoBp4Y52rHS",
      "metadata": {
        "id": "mqoBp4Y52rHS"
      },
      "outputs": [],
      "source": [
        "env = Environment()\n",
        "env.gen_ecn(10)\n",
        "\n",
        "for ecn in env.ecns:\n",
        "    for item in ecn.items:\n",
        "        print(item)"
      ]
    }
  ],
  "metadata": {
    "colab": {
      "provenance": []
    },
    "kernelspec": {
      "display_name": "Python 3",
      "language": "python",
      "name": "python3"
    },
    "language_info": {
      "codemirror_mode": {
        "name": "ipython",
        "version": 3
      },
      "file_extension": ".py",
      "mimetype": "text/x-python",
      "name": "python",
      "nbconvert_exporter": "python",
      "pygments_lexer": "ipython3",
      "version": "3.13.7"
    }
  },
  "nbformat": 4,
  "nbformat_minor": 5
}
