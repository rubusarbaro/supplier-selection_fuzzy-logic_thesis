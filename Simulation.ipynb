{
 "cells": [
  {
   "cell_type": "markdown",
   "id": "e25d7f47",
   "metadata": {},
   "source": [
    "## Classes definition"
   ]
  },
  {
   "cell_type": "code",
   "execution_count": null,
   "id": "591efa92",
   "metadata": {},
   "outputs": [],
   "source": [
    "class Supplier:\n",
    "    def __init__(self):\n",
    "        self.µ_price_high_complexity = µ_price_high_complexity\n",
    "        self.σ_price_high_complexity = σ_price_high_complexity\n",
    "        self.µ_price_medium_complexity = µ_price_medium_complexity\n",
    "        self.σ_price_medium_complexity = σ_price_medium_complexity\n",
    "        self.µ_price_low_complexity = µ_price_low_complexity\n",
    "        self.σ_price_low_complexity = σ_price_low_complexity\n",
    "\n",
    "\n",
    "class Part_Number:\n",
    "    def __init__(self):\n",
    "        pass\n",
    "\n",
    "class RFQ:\n",
    "    def __init__(self):\n",
    "        pass"
   ]
  }
 ],
 "metadata": {
  "language_info": {
   "name": "python"
  }
 },
 "nbformat": 4,
 "nbformat_minor": 5
}
